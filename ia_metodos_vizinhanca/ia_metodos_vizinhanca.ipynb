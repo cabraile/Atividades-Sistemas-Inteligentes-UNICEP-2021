{
 "cells": [
  {
   "cell_type": "markdown",
   "id": "a0306a40",
   "metadata": {
    "deletable": false,
    "editable": false,
    "nbgrader": {
     "cell_type": "markdown",
     "checksum": "9557cb6084cdefc22df67bdcc407dba5",
     "grade": false,
     "grade_id": "cell-00c5989f0ae3ec88",
     "locked": true,
     "schema_version": 3,
     "solution": false,
     "task": false
    }
   },
   "source": [
    "# Dados do aluno\n",
    "Preencha seus dados nas variáveis da célula abaixo para continuar."
   ]
  },
  {
   "cell_type": "code",
   "execution_count": null,
   "id": "de3d0c72",
   "metadata": {},
   "outputs": [],
   "source": [
    "# Preencha seu nome e código do aluno aqui\n",
    "nome_aluno   = \"\"   # Substitua aqui pelo seu nome, exemplo:   nome_aluno = \"Edson Crosué das Dores\"\n",
    "codigo_aluno = None # Substitua aqui pelo seu código, exemplo: codigo_aluno = 1234567"
   ]
  },
  {
   "cell_type": "code",
   "execution_count": null,
   "id": "bac7f2bb",
   "metadata": {
    "deletable": false,
    "editable": false,
    "nbgrader": {
     "cell_type": "code",
     "checksum": "c1c79263a8fa04b80f00a6add1fdcd68",
     "grade": true,
     "grade_id": "cell-02452428bf4b1ae3",
     "locked": true,
     "points": 0,
     "schema_version": 3,
     "solution": false,
     "task": false
    }
   },
   "outputs": [],
   "source": [
    "# Não alterar: célula reservada ao autograder\n",
    "assert nome_aluno != \"\" # Você precisa preencher seu nome no formulário\n",
    "assert codigo_aluno is not None # Você precisa preencher seu código de aluno"
   ]
  },
  {
   "cell_type": "markdown",
   "id": "eef64846",
   "metadata": {
    "deletable": false,
    "editable": false,
    "nbgrader": {
     "cell_type": "markdown",
     "checksum": "381df2e828098a8326fbcb69b68a98ce",
     "grade": false,
     "grade_id": "cell-8874723063c11a12",
     "locked": true,
     "schema_version": 3,
     "solution": false,
     "task": false
    }
   },
   "source": [
    "# Objetivo\n",
    "Nesta atividade iremos aplicar os conceitos aprendidos sobre o KNN, DWNN e o KMeans para fazer estimativas na base de dados **Real Estate Valuation Data Set** (usada no exercício anterior). \n",
    "\n",
    "Teremos dois objetivos nesta base: \n",
    "1. Preparar um modelo de regressão para estimar o preço de um imóvel dados seus atributos\n",
    "2. Encontrar grupos de imóveis que são relacionados de alguma forma.\n",
    "\n",
    "Para os nossos objetivos, é necessário que você importe os módulos `numpy` (como `np`), `pandas` (como `pd`) e o `sklearn`.\n",
    "\n",
    "**Importe os módulos na célula abaixo.**"
   ]
  },
  {
   "cell_type": "code",
   "execution_count": null,
   "id": "b5e669d4",
   "metadata": {
    "deletable": false,
    "nbgrader": {
     "cell_type": "code",
     "checksum": "41026ba7a8df64bd905146078a8ec91b",
     "grade": false,
     "grade_id": "cell-c760a5a3668ae237",
     "locked": false,
     "schema_version": 3,
     "solution": true,
     "task": false
    }
   },
   "outputs": [],
   "source": [
    "# YOUR CODE HERE\n",
    "raise NotImplementedError()"
   ]
  },
  {
   "cell_type": "code",
   "execution_count": null,
   "id": "c6dae298",
   "metadata": {
    "deletable": false,
    "editable": false,
    "nbgrader": {
     "cell_type": "code",
     "checksum": "51e1eb06903f1ce2320321c328c5ff83",
     "grade": true,
     "grade_id": "cell-239a3c231c571e39",
     "locked": true,
     "points": 0,
     "schema_version": 3,
     "solution": false,
     "task": false
    }
   },
   "outputs": [],
   "source": [
    "# Célula reservada ao autograder!\n",
    "import sys\n",
    "assert \"numpy\" in sys.modules\n",
    "assert \"pandas\" in sys.modules\n",
    "assert \"sklearn\" in sys.modules"
   ]
  },
  {
   "cell_type": "markdown",
   "id": "640932b7",
   "metadata": {
    "deletable": false,
    "editable": false,
    "nbgrader": {
     "cell_type": "markdown",
     "checksum": "38d62059dc74327d5e218de1ba0f044c",
     "grade": false,
     "grade_id": "cell-1f42ac2976c677c7",
     "locked": true,
     "schema_version": 3,
     "solution": false,
     "task": false
    }
   },
   "source": [
    "# Carregar a Base de Dados\n",
    "Comece carregando a base de dados Real Estate Valuation (REV) Data Set, do arquivo `real_estate_valuation_data_set.xlsx`, no dataframe `rev_df` usando `pandas.read_excel()`. Para ver se os dados foram carregados corretamente, use o método `head`.\n",
    "\n",
    "Também coloque a coluna `No` como índice da tabela (lembre-se de que não é uma operação **inplace**)."
   ]
  },
  {
   "cell_type": "code",
   "execution_count": null,
   "id": "25cf2a33",
   "metadata": {
    "deletable": false,
    "nbgrader": {
     "cell_type": "code",
     "checksum": "db99cdcce0062bb7bafece805481130e",
     "grade": false,
     "grade_id": "cell-83860da5098522be",
     "locked": false,
     "schema_version": 3,
     "solution": true,
     "task": false
    }
   },
   "outputs": [],
   "source": [
    "# YOUR CODE HERE\n",
    "raise NotImplementedError()"
   ]
  },
  {
   "cell_type": "code",
   "execution_count": null,
   "id": "508f1d59",
   "metadata": {
    "deletable": false,
    "editable": false,
    "nbgrader": {
     "cell_type": "code",
     "checksum": "bae3bd3e2f4ee066c540538129347916",
     "grade": true,
     "grade_id": "cell-4fa6f450c9a86d28",
     "locked": true,
     "points": 0,
     "schema_version": 3,
     "solution": false,
     "task": false
    }
   },
   "outputs": [],
   "source": [
    "# Célula reservada ao autograder!\n",
    "assert rev_df.shape[0] == 414\n",
    "assert rev_df.shape[1] == 7\n",
    "assert \"No\" not in rev_df.columns # Verifique se colocou \"No\" como índice!"
   ]
  },
  {
   "cell_type": "markdown",
   "id": "587ecfd3",
   "metadata": {
    "deletable": false,
    "editable": false,
    "nbgrader": {
     "cell_type": "markdown",
     "checksum": "20e9f840ed69c047c1a6df6c9ecae01c",
     "grade": false,
     "grade_id": "cell-dc01bc3097a92058",
     "locked": true,
     "schema_version": 3,
     "solution": false,
     "task": false
    }
   },
   "source": [
    "# Ajuste da Tabela\n",
    "\n",
    "* Remova as **colunas** (lembre-se de como usar o comando `drop`) do dataframe de entrada `X1 transaction date`, `X5 latitude` e `X6 longitude` e atribua à mesma variável.\n",
    "* Troque os nomes das colunas restantes da tabela por `Idade`, `Distância da Estação`, `# Lojas de Conveniência` e `TWD por Ping`.\n",
    "\n",
    "**Dica:** caso esteja em dúvida sobre como usar os comandos, use as instruções de aula e de exercícios sobre manipulação de dados usando Pandas"
   ]
  },
  {
   "cell_type": "code",
   "execution_count": null,
   "id": "314d9b39",
   "metadata": {
    "deletable": false,
    "nbgrader": {
     "cell_type": "code",
     "checksum": "987f3d6fa918961bdc881601323ab3f9",
     "grade": false,
     "grade_id": "cell-1f9723c9fc9e0b4e",
     "locked": false,
     "schema_version": 3,
     "solution": true,
     "task": false
    }
   },
   "outputs": [],
   "source": [
    "# YOUR CODE HERE\n",
    "raise NotImplementedError()"
   ]
  },
  {
   "cell_type": "code",
   "execution_count": null,
   "id": "7fa01fba",
   "metadata": {
    "deletable": false,
    "editable": false,
    "nbgrader": {
     "cell_type": "code",
     "checksum": "5a9c497160eb530c40d290286a038db1",
     "grade": true,
     "grade_id": "cell-bd64326ec417b260",
     "locked": true,
     "points": 0,
     "schema_version": 3,
     "solution": false,
     "task": false
    }
   },
   "outputs": [],
   "source": [
    "# Célula reservada ao autograder!\n",
    "assert \"X1 transaction date\" not in rev_df.columns # Veja se você colocou o atributo \"X1 transaction date\" no drop\n",
    "assert \"X5 latitude\" not in rev_df.columns # Veja se você colocou o atributo \"X5 latitude\" no drop\n",
    "assert \"X6 longitude\" not in rev_df.columns # Veja se você colocou o atributo \"X6 longitude\" no drop\n",
    "\n",
    "assert \"Idade\" in rev_df.columns # Veja se você renomeou as colunas\n",
    "assert \"Distância da Estação\" in rev_df.columns # Veja se você renomeou as colunas\n",
    "assert \"# Lojas de Conveniência\" in rev_df.columns # Veja se você renomeou as colunas\n",
    "assert \"TWD por Ping\" in rev_df.columns # Veja se você renomeou as colunas"
   ]
  },
  {
   "cell_type": "markdown",
   "id": "adad8497",
   "metadata": {
    "deletable": false,
    "editable": false,
    "nbgrader": {
     "cell_type": "markdown",
     "checksum": "98d6629ce359bb6b56d0b33da4ffa2ca",
     "grade": false,
     "grade_id": "cell-5cb426b9644defd1",
     "locked": true,
     "schema_version": 3,
     "solution": false,
     "task": false
    }
   },
   "source": [
    "# Separar Base de Treino e Teste\n",
    "Para treinar e validar nossos algoritmos de ML, precisamos ter uma base de dados para treinamento e outra para teste. \n",
    "\n",
    "Os dados de treinamento são responsáveis por fazer o modelo de aprendizado de máquina a ajustar seus parâmetros durante um processo de otimização. No caso do KNN e do DWNN, nenhum parâmetro é ajustado durante a fase de treinamento. Por outro lado, KMeans e outros algoritmos fazem ajustes iterativamente em busca de reduzir o erro de estimação.\n",
    "\n",
    "Caso a base de dados de interesse não tenha sido previamente separada, costumamos separar 75% dos dados para treinamento e 25% dos dados para teste (isso varia de acordo com o tamanho da base de dados).\n",
    "\n",
    "Para o pandas, usaremos o método `tabela.sample(frac=, random_state=)`, o qual amostra as linhas sem reposição a porcentagem indicada em `frac` (valor entre 0 e 1, sendo que 1 corresponde a 100%). O resultado deve ser armazenado em outra variável (armazene em `rev_df_treino`). Sete o parâmetro `random_state=1` para este exercício.\n",
    "\n",
    "Com a tabela amostrada, podemos obter a base de teste removendo da tabela original as linhas que foram amostradas usando `drop(sequencia_de_indices)`. Essa sequência de índices pode ser obtida por meio de `tabela_de_amostras.index`.\n",
    "\n",
    "**Sabendo disto, aplique os conceitos para amostrar 75% dos dados para a base de treino (armazene em `rev_df_treino`) e o restante, para teste, armazene em `rev_df_teste`.**"
   ]
  },
  {
   "cell_type": "code",
   "execution_count": null,
   "id": "4f2b3704",
   "metadata": {
    "deletable": false,
    "nbgrader": {
     "cell_type": "code",
     "checksum": "7b925d20daabdfc942e4d0da0fa49a31",
     "grade": false,
     "grade_id": "cell-3d101639b46edc5a",
     "locked": false,
     "schema_version": 3,
     "solution": true,
     "task": false
    }
   },
   "outputs": [],
   "source": [
    "# YOUR CODE HERE\n",
    "raise NotImplementedError()"
   ]
  },
  {
   "cell_type": "code",
   "execution_count": null,
   "id": "6ba0ab86",
   "metadata": {
    "deletable": false,
    "editable": false,
    "nbgrader": {
     "cell_type": "code",
     "checksum": "464a755bed83209e53b8af8ad5d22e0a",
     "grade": true,
     "grade_id": "cell-16c7a9a84959507b",
     "locked": true,
     "points": 0,
     "schema_version": 3,
     "solution": false,
     "task": false
    }
   },
   "outputs": [],
   "source": [
    "# Célula reservada ao autograder!\n",
    "assert rev_df_treino.shape[0] + rev_df_teste.shape[0] == rev_df.shape[0]\n",
    "assert np.isclose( rev_df_treino.shape[0] / rev_df.shape[0], 0.75,atol=0.01)"
   ]
  },
  {
   "cell_type": "markdown",
   "id": "9f40db91",
   "metadata": {},
   "source": [
    "# Exercício 1: Usando o KNN para regressão\n",
    "Agora que temos nossa base de dados pronta e separada em treino e teste, podemos começar a utilizar nossos modelos de aprendizado de máquina. \n",
    "\n",
    "Vamos começar pelo problema de regressão: *Fornecidos atributos como entrada, queremos estimar o preço da área do imóvel.*\n",
    "\n",
    "Para esta tarefa usaremos a implementação do KNN pelo `sklearn`. Para usarmos os modelos supervisionados de machine learning do `Scikit Learn`, existe um padrão:\n",
    "* Primeiro instanciamos o modelo (neste caso será `sklearn.neighbors.KNeighborsRegressor()`).\n",
    "* Em seguida, fornecemos a base de treinamento para o modelo pelo método `modelo.fit(tabela_com_atributos, rotulos)`, em que a tabela com atributos não tem a coluna dos rótulos.\n",
    "* Por fim, para ativar o modelo treinado em uma entrada nunca vista, usamos `modelo.predict(entrada)`, o qual retorna o valor estimado.\n",
    "\n",
    "Desta forma, para este exercício faça:\n",
    "1. Separe os atributos de treinamento da tabela `rev_df_treino` usando `drop()` e armazene em `X_treino`\n",
    "2. Armazene a coluna `\"TWD por Ping\"` na variável `Y_treino`\n",
    "3. Importe o módulo `sklearn.neighbors`\n",
    "4. Instancie o modelo de KNN usando `sklearn.neighbors.KNeighborsRegressor(n_neighbors=X_treino.shape[0],weights=\"distance\")` e armazene na variável `modelo_knn`\n",
    "5. \"Treine\" o modelo usando o método `modelo.fit(X, Y)`, substitua `X` por `X_treino` e `Y` por `Y_treino`\n",
    "6. (Opcional) Execute `print` na predição usando `modelo.predict([[19.5, 306.5947, 9]])`. Este seria o primeiro exemplo da base de teste e o resultado correto seria 42.2. Entretanto, o resultado que é o resultado obtido é um pouco maior, $47.92$."
   ]
  },
  {
   "cell_type": "code",
   "execution_count": null,
   "id": "6f6e2ea7",
   "metadata": {
    "deletable": false,
    "nbgrader": {
     "cell_type": "code",
     "checksum": "0efbca23d1d0ba14edc4da5d147efcaa",
     "grade": false,
     "grade_id": "cell-6c24ba8598e9975e",
     "locked": false,
     "schema_version": 3,
     "solution": true,
     "task": false
    }
   },
   "outputs": [],
   "source": [
    "# YOUR CODE HERE\n",
    "raise NotImplementedError()"
   ]
  },
  {
   "cell_type": "code",
   "execution_count": null,
   "id": "0b8a00fb",
   "metadata": {
    "deletable": false,
    "editable": false,
    "nbgrader": {
     "cell_type": "code",
     "checksum": "d8e123817dab8a7341eb15d66f3527bb",
     "grade": true,
     "grade_id": "cell-6bd60b72083f4382",
     "locked": true,
     "points": 4,
     "schema_version": 3,
     "solution": false,
     "task": false
    }
   },
   "outputs": [],
   "source": [
    "# Célula reservada ao autograder\n",
    "_testes_publicos = [\n",
    "    [19.5, 306.5947, 9],\n",
    "    [13.3, 561.9845, 5],\n",
    "    [13.3, 561.9845, 5]\n",
    "]\n",
    "assert \"sklearn.neighbors\" in sys.modules\n",
    "assert np.all( \n",
    "    np.isclose( \n",
    "        modelo_knn.predict(_testes_publicos),\n",
    "        np.array([47.91760389, 44.42684629, 44.42684629])\n",
    "    )\n",
    ")"
   ]
  },
  {
   "cell_type": "markdown",
   "id": "f573a5ac",
   "metadata": {
    "deletable": false,
    "editable": false,
    "nbgrader": {
     "cell_type": "markdown",
     "checksum": "ab8e7c535d4a5fa1d81921a0c4bdd554",
     "grade": false,
     "grade_id": "cell-5817242a24e2f57c",
     "locked": true,
     "schema_version": 3,
     "solution": false,
     "task": false
    }
   },
   "source": [
    "O resultado estimado pelo modelo é diferente do valor real do imóvel. Isto pode ser devido a vários fatores, principalmente:\n",
    "* **Os dados não estão normalizados** (principal causa neste exercício)\n",
    "* Os atributos usados para estimativa são insuficientes para uma boa estimativa\n",
    "* O modelo usado para regressão não é o melhor para o caso apresentado\n",
    "\n",
    "*Mais adiante neste notebook, veremos o efeito da normalização de dados z-score.*\n",
    "\n",
    "Para saber o quão bem nosso modelo faz as suas estimativas, usamos a base de testes para fazer a estimativa e comparamos o resultado do modelo com o resultado esperado.\n",
    "\n",
    "Uma das formas de comparar o resultado obtido do esperado é usando o **coeficiente de determinação**, também conhecido como `score R2` (em inglês ficaria `R2 score`). Ele é calculado da seguinte forma:\n",
    "$$\n",
    "    R_2 = 1 - \\frac{D_{Euclidiana}^2(Y, \\hat{Y})}{ D_{Euclidiana}^2(Y, Y_{médio}) },\n",
    "$$\n",
    "em que $Y$ é o resultado esperado, $\\hat{Y}$ é o resultado obtido pelo modelo e $Y_{médio}$ é a média do vetor $Y$.\n",
    "\n",
    "Para entender esta fórmula, basta perceber que, quando a estimativa, $\\hat{Y}$, é igual ao resultado esperado, $Y$, temos que $D_{Euclidiana}^2(Y, \\hat{Y}) = 0$ e, portanto, o score $R_2=1$. Por outro lado, se o resultado obtido for sempre o mesmo valor independente da entrada, $R_2 = 0$. Independente do valor, quando menor for, pior é o modelo e o modelo perfeito teria $R_2 = 1$.\n",
    "\n",
    "**Sabendo disto, faça**:\n",
    "* Separe os atributos dos rótulos da tabela `rev_df_teste` assim como foi feito no exercício  anterior e armazene os valores em `X_teste` e `Y_teste`\n",
    "* Para calcular o score, aplique `modelo.score(X,Y)`, tal que `X` seria `X_teste` e `Y` seria `Y_teste`. Este método irá aplicar a predição para todas as entradas em `X` e iria comparar usando o score `R2` o rótulo `Y_teste` com o resultado obtido. Armazene o resultado em `score_r2`."
   ]
  },
  {
   "cell_type": "code",
   "execution_count": null,
   "id": "1c136e3d",
   "metadata": {
    "deletable": false,
    "nbgrader": {
     "cell_type": "code",
     "checksum": "cdfd4fa841fa4c295d65c500d253c164",
     "grade": false,
     "grade_id": "cell-144aae175261644a",
     "locked": false,
     "schema_version": 3,
     "solution": true,
     "task": false
    }
   },
   "outputs": [],
   "source": [
    "# YOUR CODE HERE\n",
    "raise NotImplementedError()"
   ]
  },
  {
   "cell_type": "code",
   "execution_count": null,
   "id": "43a574ee",
   "metadata": {
    "deletable": false,
    "editable": false,
    "nbgrader": {
     "cell_type": "code",
     "checksum": "d06f226adcc62c81be8877b6a09dafaf",
     "grade": true,
     "grade_id": "cell-88ed61cf402dad01",
     "locked": true,
     "points": 1,
     "schema_version": 3,
     "solution": false,
     "task": false
    }
   },
   "outputs": [],
   "source": [
    "# Célula reservada ao autograder!\n",
    "assert np.isclose(score_r2,0.658,atol=0.01) # O score obtido não está de acordo com o esperado."
   ]
  },
  {
   "cell_type": "markdown",
   "id": "1435132f",
   "metadata": {
    "deletable": false,
    "editable": false,
    "nbgrader": {
     "cell_type": "markdown",
     "checksum": "f49ceb136da50a7e21488e3f8847819c",
     "grade": false,
     "grade_id": "cell-68a2575f2d4bf3b2",
     "locked": true,
     "schema_version": 3,
     "solution": false,
     "task": false
    }
   },
   "source": [
    "# Exercício 2: Usando K-Means para Agrupamento\n",
    "Por um momento, vamos visualizar novamente as distribuições de preço com relação às variáveis `Idade` `Distância da Estação` e `# Lojas de Conveniência`. \n",
    "\n",
    "Rode a célula abaixo para visualizar a dispersão dos dados."
   ]
  },
  {
   "cell_type": "code",
   "execution_count": null,
   "id": "4c5aa8ec",
   "metadata": {
    "deletable": false,
    "editable": false,
    "nbgrader": {
     "cell_type": "code",
     "checksum": "8875db6ad17d3cfd6766179701d5b6cf",
     "grade": false,
     "grade_id": "cell-c413e87b9519caa4",
     "locked": true,
     "schema_version": 3,
     "solution": false,
     "task": false
    }
   },
   "outputs": [],
   "source": [
    "import matplotlib.pyplot as plt\n",
    "cmap = \"jet\"\n",
    "fig, axs = plt.subplots(1,3,figsize=(18,4))\n",
    "rev_df.plot.scatter(y=\"Idade\", x=\"Distância da Estação\",c=\"TWD por Ping\", colormap=cmap, ax=axs[0])\n",
    "rev_df.plot.scatter(y=\"Idade\", x=\"# Lojas de Conveniência\",c=\"TWD por Ping\", colormap=cmap, ax=axs[1])\n",
    "rev_df.plot.scatter(y=\"Distância da Estação\", x=\"# Lojas de Conveniência\",c=\"TWD por Ping\", colormap=cmap, ax=axs[2])\n",
    "plt.show()"
   ]
  },
  {
   "cell_type": "markdown",
   "id": "4fc567d6",
   "metadata": {
    "deletable": false,
    "editable": false,
    "nbgrader": {
     "cell_type": "markdown",
     "checksum": "659cd27a0e83c1b8549d16f10003b59a",
     "grade": false,
     "grade_id": "cell-e03299e374947393",
     "locked": true,
     "schema_version": 3,
     "solution": false,
     "task": false
    }
   },
   "source": [
    "Fora o gráfico mais à esquerda, é um pouco difícil de - visualmente - encontrar padrões de agrupamento no gráfico. Neste ponto, o KMeans é uma ferramenta muito útil.\n",
    "\n",
    "Para incluir o KMeans em seu projeto, você precisa importar o módulo `sklearn.cluster`. Faça isso na célula abaixo."
   ]
  },
  {
   "cell_type": "code",
   "execution_count": null,
   "id": "f54df4b9",
   "metadata": {
    "deletable": false,
    "nbgrader": {
     "cell_type": "code",
     "checksum": "ae6c96e1a84e0220935559dd275236a5",
     "grade": false,
     "grade_id": "cell-1a01f1ca98945bd2",
     "locked": false,
     "schema_version": 3,
     "solution": true,
     "task": false
    }
   },
   "outputs": [],
   "source": [
    "# YOUR CODE HERE\n",
    "raise NotImplementedError()"
   ]
  },
  {
   "cell_type": "code",
   "execution_count": null,
   "id": "a4869518",
   "metadata": {
    "deletable": false,
    "editable": false,
    "nbgrader": {
     "cell_type": "code",
     "checksum": "f724295040cc0ac80fa6de01aaf53a92",
     "grade": true,
     "grade_id": "cell-bc64e56a576e1b16",
     "locked": true,
     "points": 0,
     "schema_version": 3,
     "solution": false,
     "task": false
    }
   },
   "outputs": [],
   "source": [
    "# Célula reservada ao autograder\n",
    "assert \"sklearn.cluster\" in sys.modules # É necessário importar o módulo \"sklearn.cluster\" antes de prosseguir."
   ]
  },
  {
   "cell_type": "markdown",
   "id": "7e89549f",
   "metadata": {
    "deletable": false,
    "editable": false,
    "nbgrader": {
     "cell_type": "markdown",
     "checksum": "043cd17b0b3e1a706b304a093bde9d3a",
     "grade": false,
     "grade_id": "cell-bcd33ca7f59db4f7",
     "locked": true,
     "schema_version": 3,
     "solution": false,
     "task": false
    }
   },
   "source": [
    "Para usar o KMeans, não será necessário separar a base em treinamento e teste, visto que não temos grupos pré-definidos.\n",
    "\n",
    "Desta forma\n",
    "1. **Instancie o modelo usando `sklearn.cluster.KMeans()`** com argumentos `n_clusters=4` e `random_state=1` e armazene em `modelo_kmeans`\n",
    "2. **Adapte o modelo aos dados usando `modelo.fit(dados)`**, com `dados` sendo a tabela `rev_df`."
   ]
  },
  {
   "cell_type": "code",
   "execution_count": null,
   "id": "2aefba85",
   "metadata": {
    "deletable": false,
    "nbgrader": {
     "cell_type": "code",
     "checksum": "c134cd44dcf2cd8bf0cf8ccdcc17f6b7",
     "grade": false,
     "grade_id": "cell-a6e7ed678149db7a",
     "locked": false,
     "schema_version": 3,
     "solution": true,
     "task": false
    }
   },
   "outputs": [],
   "source": [
    "# YOUR CODE HERE\n",
    "raise NotImplementedError()"
   ]
  },
  {
   "cell_type": "code",
   "execution_count": null,
   "id": "fcfbde57",
   "metadata": {
    "deletable": false,
    "editable": false,
    "nbgrader": {
     "cell_type": "code",
     "checksum": "32a467430f9fc6825782235f2dd61f11",
     "grade": true,
     "grade_id": "cell-b0179e114f6357ce",
     "locked": true,
     "points": 1,
     "schema_version": 3,
     "solution": false,
     "task": false
    }
   },
   "outputs": [],
   "source": [
    "# Célula reservada ao autograder!\n",
    "clusters = np.array([\n",
    " [1.81932836e+01,3.59555818e+02,5.48134328e+00,4.49339552e+01],\n",
    " [1.29547619e+01,2.29370698e+03,2.42857143e+00,2.70714286e+01],\n",
    " [1.75805970e+01,1.37764252e+03,1.71641791e+00,2.76507463e+01],\n",
    " [1.98702703e+01,4.42513443e+03,2.43243243e-01,1.87000000e+01]\n",
    "])\n",
    "assert np.all(\n",
    "    np.isclose(clusters, modelo_kmeans.cluster_centers_)\n",
    ")"
   ]
  },
  {
   "cell_type": "markdown",
   "id": "8a986779",
   "metadata": {
    "deletable": false,
    "editable": false,
    "nbgrader": {
     "cell_type": "markdown",
     "checksum": "ff3646e64c815f79dc1aef321dcb5fbf",
     "grade": false,
     "grade_id": "cell-8e52a7a6edf47a49",
     "locked": true,
     "schema_version": 3,
     "solution": false,
     "task": false
    }
   },
   "source": [
    "A partir desta célula seu modelo está treinado, ou seja, fornecido um elemento podemos estimar a qual grupo ele pertence. \n",
    "\n",
    "Vamos verificar a qual grupo pertence cada objeto da base de dados: aplique `modelo.predict(tabela)` e armazene na variável `grupos`. Rode `print` na variável `grupos` para visualizar o que é o resultado do KMeans."
   ]
  },
  {
   "cell_type": "code",
   "execution_count": null,
   "id": "cbc24e6f",
   "metadata": {
    "deletable": false,
    "nbgrader": {
     "cell_type": "code",
     "checksum": "20fb637f0562fea5767f8ca08db67717",
     "grade": false,
     "grade_id": "cell-dd136f52bf743d8c",
     "locked": false,
     "schema_version": 3,
     "solution": true,
     "task": false
    }
   },
   "outputs": [],
   "source": [
    "# YOUR CODE HERE\n",
    "raise NotImplementedError()"
   ]
  },
  {
   "cell_type": "code",
   "execution_count": null,
   "id": "fe1f2b45",
   "metadata": {
    "deletable": false,
    "editable": false,
    "nbgrader": {
     "cell_type": "code",
     "checksum": "2bb7a604c57dfd0e2140efb1f20b3424",
     "grade": true,
     "grade_id": "cell-bd3f241efc40d0da",
     "locked": true,
     "points": 2,
     "schema_version": 3,
     "solution": false,
     "task": false
    }
   },
   "outputs": [],
   "source": [
    "# Célula reservada ao autograder\n",
    "assert grupos[0] == 0\n",
    "assert grupos[-1] == 0\n",
    "assert grupos[5] == 1\n"
   ]
  },
  {
   "cell_type": "markdown",
   "id": "111a3218",
   "metadata": {
    "deletable": false,
    "editable": false,
    "nbgrader": {
     "cell_type": "markdown",
     "checksum": "6e7a61e1ad7207e60e7eae9049bd64c0",
     "grade": false,
     "grade_id": "cell-d76d8a4f80ab252f",
     "locked": true,
     "schema_version": 3,
     "solution": false,
     "task": false
    }
   },
   "source": [
    "O resultado obtido deve ser uma lista contendo números inteiros entre 0 e 3. O que esta lista indica é que:\n",
    "* Os elemento nas posições de 0 a 4 (linhas 0, 1, 2, 3 e 4 da tabela) pertencem ao grupo 0\n",
    "* O elemento na posição 5 pertence ao grupo 1\n",
    "* O mesmo vale para os demais elementos da lista\n",
    "\n",
    "Mas afinal, o que são esses grupos? Vamos visualizar no gráfico abaixo."
   ]
  },
  {
   "cell_type": "code",
   "execution_count": null,
   "id": "12688298",
   "metadata": {
    "deletable": false,
    "editable": false,
    "nbgrader": {
     "cell_type": "code",
     "checksum": "afca02789b04ae7ccf35c6f63955f0ae",
     "grade": false,
     "grade_id": "cell-b57ade03b6d2809b",
     "locked": true,
     "schema_version": 3,
     "solution": false,
     "task": false
    }
   },
   "outputs": [],
   "source": [
    "cmap=\"plasma\"\n",
    "rev_df_viz = rev_df.copy()\n",
    "rev_df_viz[\"Grupo\"] = rev_df.apply(lambda row: modelo_kmeans.predict([row])[0],axis=\"columns\")\n",
    "fig, axs = plt.subplots(2,3,figsize=(18,8))\n",
    "rev_df_viz.plot.scatter(y=\"Idade\", x=\"Distância da Estação\",c=\"Grupo\", colormap=cmap, ax=axs[0,0])\n",
    "rev_df_viz.plot.scatter(y=\"Idade\", x=\"# Lojas de Conveniência\",c=\"Grupo\", colormap=cmap, ax=axs[0,1])\n",
    "rev_df_viz.plot.scatter(y=\"Idade\", x=\"TWD por Ping\",c=\"Grupo\", colormap=cmap, ax=axs[0,2])\n",
    "rev_df_viz.plot.scatter(y=\"Distância da Estação\", x=\"# Lojas de Conveniência\",c=\"Grupo\", colormap=cmap, ax=axs[1,0])\n",
    "rev_df_viz.plot.scatter(y=\"Distância da Estação\", x=\"TWD por Ping\",c=\"Grupo\", colormap=cmap, ax=axs[1,1])\n",
    "rev_df_viz.plot.scatter(x=\"# Lojas de Conveniência\", y=\"TWD por Ping\",c=\"Grupo\", colormap=cmap, ax=axs[1,2])\n",
    "plt.show()"
   ]
  },
  {
   "cell_type": "markdown",
   "id": "ba471579",
   "metadata": {
    "deletable": false,
    "editable": false,
    "nbgrader": {
     "cell_type": "markdown",
     "checksum": "c319f919cb32ac409607f4773fec82b1",
     "grade": false,
     "grade_id": "cell-6db5fac45194c641",
     "locked": true,
     "schema_version": 3,
     "solution": false,
     "task": false
    }
   },
   "source": [
    "Os grupos exibidos não parecem fazer muito sentido. Isto se deve ao fato de os dados terem ordem de magnitude diferentes."
   ]
  },
  {
   "cell_type": "markdown",
   "id": "12f0a883",
   "metadata": {
    "deletable": false,
    "editable": false,
    "nbgrader": {
     "cell_type": "markdown",
     "checksum": "a8c2891bfb154323d732f35a9a70c7d1",
     "grade": false,
     "grade_id": "cell-4388d45c112fe773",
     "locked": true,
     "schema_version": 3,
     "solution": false,
     "task": false
    }
   },
   "source": [
    "# Exercício 3: Normalização Z-Score\n",
    "Perceba a diferença da ordem de magnitude dos atributos:\n",
    "* Os valores em `Idade` não ultrapassam 50\n",
    "* Em `# Lojas de Conveniência` os valores variam de 0 a 10\n",
    "* Para `TWD por Ping` os valores estão entre 0 e 120\n",
    "* Para `Distância`, os valores começam em 0 e quase alcançam 7000.\n",
    "\n",
    "Nós temos que o KMeans é um algoritmo que se baseia na diferença de distância para adaptar seus clusters, logo as mudanças nos atributos que não são a distância vão ter pouco impacto no ajuste dos centros.\n",
    "\n",
    "Existem formas de contornar este problema. Uma delas é a normalização `z-score`, que normaliza cada atributo para que a distribuição tenha média 0 e desvio padrão 1.\n",
    "\n",
    "Ela é calculada da seguinte forma para cada coluna: \n",
    "* Calcula-se a média $\\mu$ da coluna e o desvio padrão $\\sigma$\n",
    "* Para cada exemplo da coluna, calcula-se $x_{novo} = \\frac{x - \\mu}{\\sigma}$\n",
    "\n",
    "Felizmente, o `scipy.stats` implementa a normalização por nós por meio da função `scipy.stats.zscore(tabela)`, a qual retorna a tabela com cada atributo normalizado.\n",
    "\n",
    "**Sabendo disto**: \n",
    "* Importe o módulo `scipy.stats`\n",
    "* Aplique a normalização z-score na tabela `rev_df` e \n",
    "* Atribua a tabela retornada à variável `rev_df_norm`"
   ]
  },
  {
   "cell_type": "code",
   "execution_count": null,
   "id": "ebd80484",
   "metadata": {
    "deletable": false,
    "nbgrader": {
     "cell_type": "code",
     "checksum": "0a8367c7dca59a69d8744f45fcedf6a4",
     "grade": false,
     "grade_id": "cell-c961fffeffdf9509",
     "locked": false,
     "schema_version": 3,
     "solution": true,
     "task": false
    }
   },
   "outputs": [],
   "source": [
    "# YOUR CODE HERE\n",
    "raise NotImplementedError()"
   ]
  },
  {
   "cell_type": "code",
   "execution_count": null,
   "id": "9132ecf8",
   "metadata": {
    "deletable": false,
    "editable": false,
    "nbgrader": {
     "cell_type": "code",
     "checksum": "234c88acb0d1f9193b603be0bb8c7784",
     "grade": true,
     "grade_id": "cell-91b9463d28061099",
     "locked": true,
     "points": 1,
     "schema_version": 3,
     "solution": false,
     "task": false
    }
   },
   "outputs": [],
   "source": [
    "# Célula reservada ao autograder\n",
    "assert np.all( np.isclose(rev_df_norm.mean(), 0.0) )\n",
    "assert np.all( np.isclose(rev_df_norm.std(), 1.0, atol=0.1) )"
   ]
  },
  {
   "cell_type": "markdown",
   "id": "eed0fa0b",
   "metadata": {},
   "source": [
    "**Instancie novamente o KMeans (atribua à variável `modelo_kmeans_norm` - não esqueça que `n_clusters=4` e `random_state=1`) e treine usando a tabela normalizada, `rev_df_norm`**"
   ]
  },
  {
   "cell_type": "code",
   "execution_count": null,
   "id": "1eb1d0fb",
   "metadata": {
    "deletable": false,
    "nbgrader": {
     "cell_type": "code",
     "checksum": "c432f8a6d7152ef36f4f6e72f2a0685a",
     "grade": false,
     "grade_id": "cell-0e96418c2e528208",
     "locked": false,
     "schema_version": 3,
     "solution": true,
     "task": false
    }
   },
   "outputs": [],
   "source": [
    "# YOUR CODE HERE\n",
    "raise NotImplementedError()"
   ]
  },
  {
   "cell_type": "code",
   "execution_count": null,
   "id": "56fcc6d9",
   "metadata": {
    "deletable": false,
    "editable": false,
    "nbgrader": {
     "cell_type": "code",
     "checksum": "468efd9e7e65277a439e3c23a0c0c8b9",
     "grade": true,
     "grade_id": "cell-039f9b44fcab92bc",
     "locked": true,
     "points": 1,
     "schema_version": 3,
     "solution": false,
     "task": false
    }
   },
   "outputs": [],
   "source": [
    "# Célula reservada ao autograder\n",
    "clusters = np.array([\n",
    "    [-0.22507907,  0.26121706, -0.69951375, -0.64106318],\n",
    "    [ 1.34623608, -0.53486823,  0.62059678,  0.21256786],\n",
    "    [ 0.17685997,  2.57058916, -1.31515975, -1.36020105],\n",
    "    [-0.81350805, -0.62782866,  0.64029125,  0.89424981]\n",
    "])\n",
    "assert np.all(\n",
    "    np.isclose(\n",
    "        modelo_kmeans_norm.cluster_centers_, clusters\n",
    "    )\n",
    ")"
   ]
  },
  {
   "cell_type": "markdown",
   "id": "cbbab95c",
   "metadata": {},
   "source": [
    "Vamos visualizar como ficaram os agrupamentos após o treinamento com a tabela normalizada"
   ]
  },
  {
   "cell_type": "code",
   "execution_count": null,
   "id": "a77693b6",
   "metadata": {
    "deletable": false,
    "editable": false,
    "nbgrader": {
     "cell_type": "code",
     "checksum": "e0cdb448f3ae4a4503f456fdc407a2e5",
     "grade": false,
     "grade_id": "cell-b56afa3bc95e9fad",
     "locked": true,
     "schema_version": 3,
     "solution": false,
     "task": false
    }
   },
   "outputs": [],
   "source": [
    "# Cria uma tabela para visualização - não alterar o df original!\n",
    "rev_df_viz = rev_df.copy()\n",
    "# Gera a coluna de grupos a partir da tabela normalizada e da aplicação do KMeans nela\n",
    "rev_df_viz[\"Grupo\"] = rev_df_norm.apply(lambda row: modelo_kmeans_norm.predict([row])[0],axis=\"columns\")\n",
    "\n",
    "cmap=\"plasma\"\n",
    "fig, axs = plt.subplots(2,3,figsize=(18,8))\n",
    "rev_df_viz.plot.scatter(y=\"Idade\", x=\"Distância da Estação\",c=\"Grupo\", colormap=cmap, ax=axs[0,0])\n",
    "rev_df_viz.plot.scatter(y=\"Idade\", x=\"# Lojas de Conveniência\",c=\"Grupo\", colormap=cmap, ax=axs[0,1])\n",
    "rev_df_viz.plot.scatter(y=\"Idade\", x=\"TWD por Ping\",c=\"Grupo\", colormap=cmap, ax=axs[0,2])\n",
    "rev_df_viz.plot.scatter(y=\"Distância da Estação\", x=\"# Lojas de Conveniência\",c=\"Grupo\", colormap=cmap, ax=axs[1,0])\n",
    "rev_df_viz.plot.scatter(y=\"Distância da Estação\", x=\"TWD por Ping\",c=\"Grupo\", colormap=cmap, ax=axs[1,1])\n",
    "rev_df_viz.plot.scatter(x=\"# Lojas de Conveniência\", y=\"TWD por Ping\",c=\"Grupo\", colormap=cmap, ax=axs[1,2])\n",
    "plt.show()"
   ]
  },
  {
   "cell_type": "markdown",
   "id": "357bdfa7",
   "metadata": {},
   "source": [
    "# Análise para conclusão\n",
    "Agora sim a visualização faz mais sentido. Vamos tentar verificar quais tipos de imóveis existem, considerando os grupos gerados:\n",
    "* Os grupos 1 e 3 (roxo e amarelo) correspondem aos imóveis de valor maior. Esses imóveis possuem um número maior de lojas de conveniência nos arredores e estão localizados mais próximos à estação de trem mais próxima. Ambos divergem somente na idade: o grupo roxo (1) corresponde aos imóveis mais antigos (de 20 ou mais), enquanto o amarelo (3) corresponde aos mais novos (de 20 anos ou menos).\n",
    "* Os grupos 0 e 2 (azul e laranja) correspondem a imóveis de valor menor, localizados mais distantes da estação mais próxima. Os imóveis do grupo 2 (laranja) são os imóveis mais desvalorizados. Não parece haver distinção entre ambos os grupos por idade, mas parece que existem mais lojas de conveniência próximos aos do grupo 0 do que com relação ao grupo 2.\n",
    "\n",
    "Por fim, a análise varia de acordo com a experiência do analista e do contexto."
   ]
  },
  {
   "cell_type": "code",
   "execution_count": null,
   "id": "e140c801",
   "metadata": {},
   "outputs": [],
   "source": []
  }
 ],
 "metadata": {
  "kernelspec": {
   "display_name": "Python 3",
   "language": "python",
   "name": "python3"
  },
  "language_info": {
   "codemirror_mode": {
    "name": "ipython",
    "version": 3
   },
   "file_extension": ".py",
   "mimetype": "text/x-python",
   "name": "python",
   "nbconvert_exporter": "python",
   "pygments_lexer": "ipython3",
   "version": "3.8.8"
  }
 },
 "nbformat": 4,
 "nbformat_minor": 5
}
