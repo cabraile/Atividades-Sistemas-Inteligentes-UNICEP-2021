{
 "cells": [
  {
   "cell_type": "markdown",
   "id": "c72afcf5",
   "metadata": {
    "deletable": false,
    "editable": false,
    "nbgrader": {
     "cell_type": "markdown",
     "checksum": "533595df5c47a3cbccab73c8e38e83aa",
     "grade": false,
     "grade_id": "cell-2adc791d7d9c7d73",
     "locked": true,
     "schema_version": 3,
     "solution": false,
     "task": false
    }
   },
   "source": [
    "# Dados do aluno\n",
    "Preencha seus dados nas variáveis da célula abaixo para continuar."
   ]
  },
  {
   "cell_type": "code",
   "execution_count": null,
   "id": "bb538dfc",
   "metadata": {},
   "outputs": [],
   "source": [
    "# Preencha seu nome e código do aluno aqui\n",
    "nome_aluno   = \"\"   # Substitua aqui pelo seu nome, exemplo:   nome_aluno = \"Edson Crosué das Dores\"\n",
    "codigo_aluno = None # Substitua aqui pelo seu código, exemplo: codigo_aluno = 1234567"
   ]
  },
  {
   "cell_type": "code",
   "execution_count": null,
   "id": "92787a5f",
   "metadata": {
    "deletable": false,
    "editable": false,
    "nbgrader": {
     "cell_type": "code",
     "checksum": "43915c9d29866be5e6a4866d8f875cc3",
     "grade": true,
     "grade_id": "cell-a3a35353a136090d",
     "locked": true,
     "points": 0,
     "schema_version": 3,
     "solution": false,
     "task": false
    }
   },
   "outputs": [],
   "source": [
    "# Não alterar: célula reservada ao autograder\n",
    "assert nome_aluno != \"\" # Você precisa preencher seu nome no formulário\n",
    "assert codigo_aluno is not None # Você precisa preencher seu código de aluno"
   ]
  },
  {
   "cell_type": "markdown",
   "id": "2076fd35",
   "metadata": {
    "deletable": false,
    "editable": false,
    "nbgrader": {
     "cell_type": "markdown",
     "checksum": "10653888368cd89be0bfc2032b364666",
     "grade": false,
     "grade_id": "cell-cab038212df366fe",
     "locked": true,
     "schema_version": 3,
     "solution": false,
     "task": false
    }
   },
   "source": [
    "# Sobre\n",
    "Python é uma linguagem de programação que busca aumentar o nível de abstração da implementação.\n",
    "\n",
    "Assim como em outras linguagens, o conceito de funções, estruturas de decisão e de repetição em Python serão usado constantemente e, nesta disciplina, isso não será diferente. Além deles, tipos iteráveis, como listas e tuplas e dicionários são usados quase que em todo script Python.\n",
    "\n",
    "Desta forma, neste notebook o objetivo é guiar o estudo sobre o básico de implementação em Python."
   ]
  },
  {
   "cell_type": "markdown",
   "id": "30621a7b",
   "metadata": {
    "deletable": false,
    "editable": false,
    "nbgrader": {
     "cell_type": "markdown",
     "checksum": "cdc757882c8e357ed6aad63186d7d6ff",
     "grade": false,
     "grade_id": "cell-142e966a4e33b5d2",
     "locked": true,
     "schema_version": 3,
     "solution": false,
     "task": false
    }
   },
   "source": [
    "# Exercício 1\n",
    "Implemente uma função chamada `eh_positivo`, a qual retorna `True` caso a variável de entrada seja maior do que zero e retorna `False` caso contrário.\n",
    "\n",
    "**Lembrete:** a sintaxe da declaração de uma função é:\n",
    "```python\n",
    "def nome_funcao(variavel_1, variavel_2, ..., variavel_N):\n",
    "    # Código\n",
    "    ...\n",
    "    # Fim código\n",
    "    return resultado # Retorna algum valor calculado, caso haja algo para retornar\n",
    "```\n",
    "\n",
    "**Lembrete:** a sintaxe da estrutura de decisão em Python é:\n",
    "```python\n",
    "if condicao_1:\n",
    "    bloco_condicao_1\n",
    "elif condicao_2: # o 'elif' é opcional\n",
    "    bloco_condicao_2\n",
    "...\n",
    "else: # Caso nenhuma das condições seja verdadeira, cai no 'else'\n",
    "    bloco_else\n",
    "```"
   ]
  },
  {
   "cell_type": "code",
   "execution_count": null,
   "id": "c4a88ef6",
   "metadata": {
    "deletable": false,
    "nbgrader": {
     "cell_type": "code",
     "checksum": "5371feb97f0a9868e8c0ee668e9b93c6",
     "grade": false,
     "grade_id": "cell-7e915fa7896192dd",
     "locked": false,
     "schema_version": 3,
     "solution": true,
     "task": false
    }
   },
   "outputs": [],
   "source": [
    "# YOUR CODE HERE\n",
    "raise NotImplementedError()"
   ]
  },
  {
   "cell_type": "code",
   "execution_count": null,
   "id": "e60aadcf",
   "metadata": {},
   "outputs": [],
   "source": [
    "# Use esta célula para testar sua função. Altere a variável 'val_teste' conforme queira\n",
    "val_teste = 10\n",
    "print(eh_positivo(val_teste))"
   ]
  },
  {
   "cell_type": "code",
   "execution_count": null,
   "id": "4186a463",
   "metadata": {
    "deletable": false,
    "editable": false,
    "nbgrader": {
     "cell_type": "code",
     "checksum": "ad681574f3571976201e1f7c0ef392e7",
     "grade": true,
     "grade_id": "cell-d664ce978f6e299e",
     "locked": true,
     "points": 2,
     "schema_version": 3,
     "solution": false,
     "task": false
    }
   },
   "outputs": [],
   "source": [
    "# Não alterar: célula reservada ao autograder\n",
    "assert eh_positivo(1) is not None # Feedback: por um acaso você se lembrou de colocar 'return'?\n",
    "assert eh_positivo(5) == True # Feedback: retornou que 5 não é positivo. Confira seu código.\n",
    "assert eh_positivo(0) == False # Feedback: retornou que 0 é positivo. Confira seu código.\n",
    "assert eh_positivo(-1) == False # Feedback: retornou que -1 é positivo. Confira seu código.\n"
   ]
  },
  {
   "cell_type": "markdown",
   "id": "64f08eba",
   "metadata": {
    "deletable": false,
    "editable": false,
    "nbgrader": {
     "cell_type": "markdown",
     "checksum": "a9bb6172686dad65025ca20f311169f3",
     "grade": false,
     "grade_id": "cell-1dabea3f8bd6a659",
     "locked": true,
     "schema_version": 3,
     "solution": false,
     "task": false
    }
   },
   "source": [
    "# Exercício 2\n",
    "A função implementada resolve o problema caso o valor fornecido seja um número. Se quiséssemos avaliar cada elemento de uma lista seria necessário implementar uma estrutura de repetição por fora da função e isso poderia deixar o código que chamou a função um pouco menos legível.\n",
    "\n",
    "Desta forma, **implemente uma função nomeada `eh_positivo_lista` em que a variável recebida é uma lista e que fornece como saída outra lista que tem o resultado da função `eh_positivo` aplicada a cada elemento da lista**. \n",
    "\n",
    "Por exemplo, se fornecermos a lista `[10, 0, -5]` como entrada, a saída esperada é a lista `[True, False, False]`.\n",
    "\n",
    "**Dica:** Comece criando uma lista vazia e concatene a ela o resultado de cada elemento da lista de entrada. Não se esqueça de retornar o resultado usando `return`!\n",
    "\n",
    "**Lembrete:** Para criar uma lista, faça: `lista = []` e para concatenar elementos a ela use `lista.append(valor)`, em que `valor` é uma variável ou um literal.\n",
    "\n",
    "**Lembrete:** Existem duas formas de fazer repetição em Python: usando `for` e `while`: \n",
    "```python\n",
    "while condicao:\n",
    "    bloco_while\n",
    "```\n",
    "```python\n",
    "for valor in iteravel:\n",
    "    bloco_for\n",
    "```\n",
    "No caso do `while`, para acessar cada elemento da lista você precisará de uma variável auxiliar (iniciada em 0) e que irá ser incrementada até o número de elementos -1.\n",
    "\n",
    "No caso do `for`, a cada iteração cada elemento da variável `iteravel` é acessado em sequência e atribuído à variável `valor`."
   ]
  },
  {
   "cell_type": "code",
   "execution_count": null,
   "id": "038f3cb2",
   "metadata": {
    "deletable": false,
    "nbgrader": {
     "cell_type": "code",
     "checksum": "17df148532557c23d5f6a4cbf23f93d1",
     "grade": false,
     "grade_id": "cell-1e6b56b8662565ed",
     "locked": false,
     "schema_version": 3,
     "solution": true,
     "task": false
    }
   },
   "outputs": [],
   "source": [
    "# YOUR CODE HERE\n",
    "raise NotImplementedError()"
   ]
  },
  {
   "cell_type": "code",
   "execution_count": null,
   "id": "6c2ae9d9",
   "metadata": {},
   "outputs": [],
   "source": [
    "# Use esta célula para testar sua função. Altere a variável 'val_teste' conforme queira\n",
    "val_teste = [10,0,-5]\n",
    "print(eh_positivo_lista(val_teste))"
   ]
  },
  {
   "cell_type": "code",
   "execution_count": null,
   "id": "6263305d",
   "metadata": {
    "deletable": false,
    "editable": false,
    "nbgrader": {
     "cell_type": "code",
     "checksum": "117cba7e261f794c9e2fe3d676dfcb5c",
     "grade": true,
     "grade_id": "cell-de40a2aada928521",
     "locked": true,
     "points": 2,
     "schema_version": 3,
     "solution": false,
     "task": false
    }
   },
   "outputs": [],
   "source": [
    "# Não alterar: célula reservada ao autograder\n",
    "resultado = eh_positivo_lista([10,0,-5])\n",
    "gabarito = [True, False, False]\n",
    "assert all([ gabarito[i] == resultado[i] for i in range(3)  ]) # Feedback: Algum dos elementos da lista de teste teve resultado diferente. Confira seu código.\n",
    "\n",
    "resultado = eh_positivo_lista([50,-7,10,5])\n",
    "gabarito = [True, False, True, True]\n",
    "assert all([ gabarito[i] == resultado[i] for i in range(4)  ]) # Feedback: Algum dos elementos da lista de teste teve resultado diferente. Confira seu código.\n"
   ]
  },
  {
   "cell_type": "markdown",
   "id": "9b9be9f9",
   "metadata": {
    "deletable": false,
    "editable": false,
    "nbgrader": {
     "cell_type": "markdown",
     "checksum": "f11e120b0c515df2f080dc117ebd2de7",
     "grade": false,
     "grade_id": "cell-d96249a60a6bfea7",
     "locked": true,
     "schema_version": 3,
     "solution": false,
     "task": false
    }
   },
   "source": [
    "# Exercício 3-A\n",
    "Tuplas e listas são muito populares para elencar elementos. Apesar disso, dicionários são muito versáteis para entradas de bases de dados e geralmente são combinados com listas.\n",
    "\n",
    "Neste exercício, implemente uma função chamada `cria_base_de_dados` (não precisa colocar nenhum parâmetro) que cria e retorna um dicionário com três chaves do tipo string, `\"nome\"`, `\"P1\"` e `\"P2\"`. Cada chave dessas será inicializada com uma lista vazia. \n",
    "\n",
    "**Lembrete:** Existem duas formas de criar um dicionário. Em uma delas, especificamos no momento da criação quais serão as chaves e qual será o valor de cada uma. A outra forma consiste em inicializar o dicionário vazio e acrescentar as chaves depois.\n",
    "```python\n",
    "# Primeira forma\n",
    "dicionario1 = {\n",
    "    \"chave\" : valor,\n",
    "    \"outra_chave\" : outro_valor,\n",
    "    ...\n",
    "    \"mais_outra_chave\" : mais_um_valor\n",
    "}\n",
    "\n",
    "# Segunda forma\n",
    "dicionario2 = {}\n",
    "dicionario2[\"chave\"] = valor\n",
    "dicionario2[\"outra_chave\"] = outro_valor\n",
    "dicionario2[\"mais_outra_chave\"] = mais_um_valor\n",
    "```\n",
    "Perceba que os valores atribuídos podem ser de qualquer tipo, incluindo uma lista. A chave não precisa ser uma `string`, mas para simplificar nesta disciplina, usaremos somente chaves do tipo `string` e `int`."
   ]
  },
  {
   "cell_type": "code",
   "execution_count": null,
   "id": "491fa7f7",
   "metadata": {
    "deletable": false,
    "nbgrader": {
     "cell_type": "code",
     "checksum": "79b9d95f0a767f15f8bd29379cf0f28f",
     "grade": false,
     "grade_id": "cell-0f18c273ff79a048",
     "locked": false,
     "schema_version": 3,
     "solution": true,
     "task": false
    }
   },
   "outputs": [],
   "source": [
    "# YOUR CODE HERE\n",
    "raise NotImplementedError()"
   ]
  },
  {
   "cell_type": "code",
   "execution_count": null,
   "id": "7efa21b4",
   "metadata": {},
   "outputs": [],
   "source": [
    "# Use esta célula para testar sua função\n",
    "print(cria_base_de_dados())"
   ]
  },
  {
   "cell_type": "code",
   "execution_count": null,
   "id": "8d11b48b",
   "metadata": {
    "deletable": false,
    "editable": false,
    "nbgrader": {
     "cell_type": "code",
     "checksum": "38b7aa23bd7b5e845bc18960174e9f4d",
     "grade": true,
     "grade_id": "cell-8ee85cfe9906b0ff",
     "locked": true,
     "points": 1,
     "schema_version": 3,
     "solution": false,
     "task": false
    }
   },
   "outputs": [],
   "source": [
    "# Não alterar: célula reservada ao autograder\n",
    "_resultado = cria_base_de_dados()\n",
    "\n",
    "assert \"nome\" in _resultado # Feedback: A chave \"nome\" não está contida no seu dicionário\n",
    "assert \"P1\" in _resultado # Feedback: A chave \"P1\" não está contida no seu dicionário\n",
    "assert \"P2\" in _resultado # Feedback: A chave \"P2\" não está contida no seu dicionário\n",
    "\n",
    "assert type(_resultado[\"nome\"]) is list # Feedback: não foi atribuída uma lista à chave \"nome\"\n",
    "assert type(_resultado[\"P1\"]) is list # Feedback: não foi atribuída uma lista à chave \"P1\"\n",
    "assert type(_resultado[\"P2\"]) is list # Feedback: não foi atribuída uma lista à chave \"P2\"\n",
    "\n",
    "assert len(_resultado[\"nome\"]) == 0 # Feedback: a lista da chave \"nome\" não está vazia.\n",
    "assert len(_resultado[\"P1\"]) == 0 # Feedback: a lista da chave \"P1\" não está vazia.\n",
    "assert len(_resultado[\"P2\"]) == 0 # Feedback: a lista da chave \"P2\" não está vazia."
   ]
  },
  {
   "cell_type": "markdown",
   "id": "6d585de8",
   "metadata": {
    "deletable": false,
    "editable": false,
    "nbgrader": {
     "cell_type": "markdown",
     "checksum": "dfc8347f60530984528b68ec78a2e5a3",
     "grade": false,
     "grade_id": "cell-3d110b785acbe52e",
     "locked": true,
     "schema_version": 3,
     "solution": false,
     "task": false
    }
   },
   "source": [
    "# Exercício 3-B\n",
    "A função que definimos cria uma base de dados de alunos, ou seja, podemos ter acesso a alunos e suas respectivas notas de provas. Apesar disso, pode ser um pouco chato inserir aluno por aluno na base sem um controle pois precisamos garantir que os campos `nome`, `P1` e `P2` sejam inseridos simultaneamente.\n",
    "\n",
    "Desta forma, **crie o procedimento `insere_aluno` que recebe o dicionário da base de dados, o nome do aluno, a nota da P1 e a nota da P2 e os insere em suas respectivas listas.**\n",
    "\n",
    "Perceba que não é necessário retornar nenhum valor, visto que as alterações acontecerão direto no dicionário (ele é de tipo mutável).\n",
    "\n",
    "**Lembrete:** Para acessar uma chave do dicionário use: `dicionario[\"chave\"]`. Se o elemento armazenado nesta posição for uma lista, você pode alterar ela normalmente com `append`, por exemplo: `dicionario[\"chave\"].append(valor)`"
   ]
  },
  {
   "cell_type": "code",
   "execution_count": null,
   "id": "8c2180ea",
   "metadata": {
    "deletable": false,
    "nbgrader": {
     "cell_type": "code",
     "checksum": "a9a5f8e742ed6ed8fb6864d2602c3fb0",
     "grade": false,
     "grade_id": "cell-1c618b69d5b21f65",
     "locked": false,
     "schema_version": 3,
     "solution": true,
     "task": false
    }
   },
   "outputs": [],
   "source": [
    "# YOUR CODE HERE\n",
    "raise NotImplementedError()"
   ]
  },
  {
   "cell_type": "code",
   "execution_count": null,
   "id": "14e49164",
   "metadata": {},
   "outputs": [],
   "source": [
    "# Use esta célular para criar sua base de teste. \n",
    "# Caso queira reiniciar sua base de dados, basta rodar novamente esta célula\n",
    "base_de_dados_teste = cria_base_de_dados()"
   ]
  },
  {
   "cell_type": "code",
   "execution_count": null,
   "id": "a37988f7",
   "metadata": {},
   "outputs": [],
   "source": [
    "# Use esta célula para testar sua função. Altere os valores a cada vez que rodar esta célula\n",
    "nome_entrada = \"Jacques Pierre\"\n",
    "nota_P1 = 9.5\n",
    "nota_P2 = 10.0\n",
    "insere_aluno(base_de_dados_teste, nome_entrada, nota_P1, nota_P2)\n",
    "print(base_de_dados_teste)"
   ]
  },
  {
   "cell_type": "code",
   "execution_count": null,
   "id": "bb687d72",
   "metadata": {
    "deletable": false,
    "editable": false,
    "nbgrader": {
     "cell_type": "code",
     "checksum": "28d85aa743c7f530ed871f8fde02a91a",
     "grade": true,
     "grade_id": "cell-e8dae6d6f00902d9",
     "locked": true,
     "points": 1,
     "schema_version": 3,
     "solution": false,
     "task": false
    }
   },
   "outputs": [],
   "source": [
    "_bd_teste = cria_base_de_dados()\n",
    "insere_aluno(_bd_teste, \"Jacques Pierre\", 10.0, 9.5)\n",
    "insere_aluno(_bd_teste, \"Albert Norvig\", 8.0, 7.5)\n",
    "insere_aluno(_bd_teste, \"Thomas Liebtraum\", 6.0, 8.75)\n",
    "\n",
    "def _isclose(v1,v2,tol=1e-8):\n",
    "    if abs(v1-v2) < tol:\n",
    "        return True\n",
    "    return False\n",
    "\n",
    "assert _bd_teste[\"nome\"][0] == \"Jacques Pierre\" # O nome do primeiro aluno não foi inserido corretamente. Verifique se a chave 'nome' na função de inserção está correta.\n",
    "assert _bd_teste[\"nome\"][1] == \"Albert Norvig\" # O nome do segundo aluno não foi inserido corretamente. Verifique se a chave 'nome' na função de inserção está correta.\n",
    "assert _bd_teste[\"nome\"][2] == \"Thomas Liebtraum\" # O nome do terceiro aluno não foi inserido corretamente. Verifique se a chave 'nome' na função de inserção está correta.\n",
    "\n",
    "assert _isclose(_bd_teste[\"P1\"][0], 10.0) # A P1 do primeiro aluno não foi inserida corretamente. Verifique se a chave 'P1' na função de inserção está correta.\n",
    "assert _isclose(_bd_teste[\"P1\"][1], 8.0) # A P1 do segundo aluno não foi inserida corretamente. Verifique se a chave 'P1' na função de inserção está correta.\n",
    "assert _isclose(_bd_teste[\"P1\"][2], 6.0) # A P1 do terceiro aluno não foi inserida corretamente. Verifique se a chave 'P1' na função de inserção está correta.\n",
    "\n",
    "assert _isclose(_bd_teste[\"P2\"][0], 9.5) # A P2 do primeiro aluno não foi inserida corretamente. Verifique se a chave 'P2' na função de inserção está correta.\n",
    "assert _isclose(_bd_teste[\"P2\"][1], 7.5) # A P2 do segundo aluno não foi inserida corretamente. Verifique se a chave 'P2' na função de inserção está correta.\n",
    "assert _isclose(_bd_teste[\"P2\"][2], 8.75) # A P2 do terceiro aluno não foi inserida corretamente. Verifique se a chave 'P2' na função de inserção está correta."
   ]
  },
  {
   "cell_type": "markdown",
   "id": "ba80443b",
   "metadata": {
    "deletable": false,
    "editable": false,
    "nbgrader": {
     "cell_type": "markdown",
     "checksum": "796cac37949914ad42102db9cd7bd228",
     "grade": false,
     "grade_id": "cell-3548c55a6ab27fcc",
     "locked": true,
     "schema_version": 3,
     "solution": false,
     "task": false
    }
   },
   "source": [
    "# Exercício 4\n",
    "Listas em Python vêm com um conteito interessante, o de `slicing`. O `slicing` é interessante para manipulação de listas e elementos e pode ser usado em estruturas de dados mais complexas, como veremos adiante no curso.\n",
    "\n",
    "Um `slice` é uma \"fatia\" da lista selecionada por um padrão que nós definimos. Uma forma de acessar os elementos de uma lista por slicing é usando\n",
    "```python\n",
    "parte_selecionada = lista[inicio:fim:passo]\n",
    "```\n",
    "\n",
    "A variável `parte_selecionada` é uma lista com os elementos de saída do slice da lista `lista`. O valor em `inicio` corresponde ao índice do primeiro elemento a ser selecionado (por padrão é *0*), `fim` é o índice do último elemento a ser selecionado (excluindo ele) - por padrão é o índice do último elemento da lista somado de 1 - e `passo` corresponde ao tamanho do passo entre o elemento atual e o próximo (por padrão é *1*).\n",
    "\n",
    "Como `inicio`, `fim` e `passo` possuem valores-padrão, podemos omitir eles, gerando outras variações desse tipo de slicing:\n",
    "```python\n",
    "parte_selecionada = lista[inicio::] # Começa em \"inicio\" e termina no último elemento da lista\n",
    "parte_selecionada = lista[:fim:] # Começa em 0 e termina em \"fim\" - 1\n",
    "parte_selecionada = lista[::passo] # Começa em 0 e vai até o último elemento da lista com tamanho de passo \"passo\"\n",
    "```"
   ]
  },
  {
   "cell_type": "code",
   "execution_count": null,
   "id": "1a95d0e8",
   "metadata": {},
   "outputs": [],
   "source": [
    "# Use esta célula para testar o funcionamento do slicing.\n",
    "# Altere os valores no slice para qualquer valor desejado.\n",
    "lista_slices = [1,2,3,4,5,6,7,8,9]\n",
    "resultado = lista_slices[5:8:1]\n",
    "print( resultado )"
   ]
  },
  {
   "cell_type": "markdown",
   "id": "9282f5b2",
   "metadata": {
    "deletable": false,
    "editable": false,
    "nbgrader": {
     "cell_type": "markdown",
     "checksum": "404e064e793492a5abeb7a9ae62fa47e",
     "grade": false,
     "grade_id": "cell-a4467c1c77f1e19f",
     "locked": true,
     "schema_version": 3,
     "solution": false,
     "task": false
    }
   },
   "source": [
    "Se `passo` for menor que 0, então os elementos da lista são acessados na ordem contrária. Na verdade, se você tentar acessar uma lista ou tupla com elementos negativos, você irá acessar na ordem contrária.\n",
    "\n",
    "Neste caso, se for usar os valores de `inicio` e `fim` diferentes do padrão, `fim` precisa ser menor que `inicio`, caso contrário não existirá elementos na lista de saída."
   ]
  },
  {
   "cell_type": "code",
   "execution_count": null,
   "id": "84761698",
   "metadata": {},
   "outputs": [],
   "source": [
    "# Use esta célula para testar o funcionamento do slicing.\n",
    "# Altere os valores no slice para qualquer valor desejado.\n",
    "lista_slices = [1,2,3,4,5,6,7,8,9]\n",
    "indice = -1 # Experimente alterar o índice para valores negativos\n",
    "print(f\"Elemento {indice} da lista:\", lista_slices[indice])\n",
    "\n",
    "resultado = lista_slices[8:5:-1] # Experimente alterar os valores de início e fim\n",
    "print(\"Resultado slice: \", resultado )"
   ]
  },
  {
   "cell_type": "markdown",
   "id": "f5dd91d0",
   "metadata": {
    "deletable": false,
    "editable": false,
    "nbgrader": {
     "cell_type": "markdown",
     "checksum": "5c231e488e1e84681366a6ccf8e54384",
     "grade": false,
     "grade_id": "cell-dfabe758cd3f73fc",
     "locked": true,
     "schema_version": 3,
     "solution": false,
     "task": false
    }
   },
   "source": [
    "Sabendo disto, **implemente o slicing para inverter a ordem dos elementos da lista** `lista_exercicio_4`. Armazene o resultado em `exercicio_4`.\n",
    "\n",
    "**Dica:** utilize o fato de que com o tamanho de passo menor do que zero os elementos da lista são acessados em ordem contrária e que se não colocar o valor de início e fim os elementos são acessados do último para o primeiro."
   ]
  },
  {
   "cell_type": "code",
   "execution_count": null,
   "id": "fc56cd86",
   "metadata": {
    "deletable": false,
    "editable": false,
    "nbgrader": {
     "cell_type": "code",
     "checksum": "93239c9c47b46b92fb46623049d89e28",
     "grade": false,
     "grade_id": "cell-2a5ad424a050c3d6",
     "locked": true,
     "schema_version": 3,
     "solution": false,
     "task": false
    }
   },
   "outputs": [],
   "source": [
    "# Rode esta célula antes!\n",
    "lista_exercicio_4 = list( range(10,0,-1) )\n",
    "print(\"Lista original: \",lista_exercicio_4)"
   ]
  },
  {
   "cell_type": "code",
   "execution_count": null,
   "id": "1325f408",
   "metadata": {
    "deletable": false,
    "nbgrader": {
     "cell_type": "code",
     "checksum": "793817a936c9efbad5c34186f3358e1e",
     "grade": false,
     "grade_id": "cell-12cf79e4f139c73c",
     "locked": false,
     "schema_version": 3,
     "solution": true,
     "task": false
    }
   },
   "outputs": [],
   "source": [
    "# YOUR CODE HERE\n",
    "raise NotImplementedError()"
   ]
  },
  {
   "cell_type": "code",
   "execution_count": null,
   "id": "e43fe7f6",
   "metadata": {
    "deletable": false,
    "editable": false,
    "nbgrader": {
     "cell_type": "code",
     "checksum": "f8552970bb49ca1836873fabf47e1432",
     "grade": true,
     "grade_id": "cell-9761f856b3e41aea",
     "locked": true,
     "points": 1,
     "schema_version": 3,
     "solution": false,
     "task": false
    }
   },
   "outputs": [],
   "source": [
    "# Não alterar: célula reservada ao autograder\n",
    "assert len(exercicio_4) == len(lista_exercicio_4)\n",
    "\n",
    "gabarito = [1,2,3,4,5,6,7,8,9,10]\n",
    "assert all([ gabarito[i] == exercicio_4[i] for i in range(len(gabarito))  ]) # Feedback: Algum dos elementos da lista de teste teve resultado diferente. Confira seu código."
   ]
  },
  {
   "cell_type": "markdown",
   "id": "ed2d5a8e",
   "metadata": {},
   "source": [
    "# Exercício 5 - A\n",
    "A habilidade de manipular listas e dicionários é importante, mas no cotidiano usamos estruturas de dados mais complexas e o uso de listas e dicionários é mantido para tarefas mais genéricas.\n",
    "\n",
    "Em áreas da inteligência artificial, como o aprendizado de máquina e visão computacional, precisamos lidar com matrizes e vetores. Para tanto, utilizamos o módulo `numpy` em Python que implementa a maior parte das ferramentas necessárias para se trabalhar com matrizes e vetores de forma eficiente. Além disso, o `numpy` implementa diversas funções e constantes básicas da matemática, incluindo funções trigonométricas, exponenciais e logaritmos.\n",
    "\n",
    "Vamos começar com o básico. Na célula abaixo, carregue o módulo `numpy` com alias `np`."
   ]
  },
  {
   "cell_type": "code",
   "execution_count": null,
   "id": "f65a6dc3",
   "metadata": {
    "deletable": false,
    "nbgrader": {
     "cell_type": "code",
     "checksum": "10e0105b02b2e1c8cc9a9de641369382",
     "grade": false,
     "grade_id": "cell-0e7f06ca3a8071d6",
     "locked": false,
     "schema_version": 3,
     "solution": true,
     "task": false
    }
   },
   "outputs": [],
   "source": [
    "# YOUR CODE HERE\n",
    "raise NotImplementedError()"
   ]
  },
  {
   "cell_type": "code",
   "execution_count": null,
   "id": "026a001c",
   "metadata": {
    "deletable": false,
    "editable": false,
    "nbgrader": {
     "cell_type": "code",
     "checksum": "b8169365c41f1abba501a4bc27e2c009",
     "grade": true,
     "grade_id": "cell-99b89839d6455ddd",
     "locked": true,
     "points": 0,
     "schema_version": 3,
     "solution": false,
     "task": false
    }
   },
   "outputs": [],
   "source": [
    "# Não alterar: célula reservada ao autograder\n",
    "import sys\n",
    "assert \"numpy\" in sys.modules"
   ]
  },
  {
   "cell_type": "markdown",
   "id": "70c79905",
   "metadata": {
    "deletable": false,
    "editable": false,
    "nbgrader": {
     "cell_type": "markdown",
     "checksum": "d1cd5128681b26ee7efe1236a8af572f",
     "grade": false,
     "grade_id": "cell-81229786e3d3031c",
     "locked": true,
     "schema_version": 3,
     "solution": false,
     "task": false
    }
   },
   "source": [
    "# Exercício 5 - B\n",
    "Para criar uma matriz de `N` linhas e `M` colunas usando o Numpy podemos usar as seguintes funções:\n",
    "```python\n",
    "dimensoes = (N,M) # As dimensões da matriz são passadas como uma tupla\n",
    "matriz_vazia = numpy.empty(dimensoes, dtype=tipo) # Cria uma matriz sem inicializar seus elementos\n",
    "matriz_zeros = numpy.zeros(dimensoes, dtype=tipo) # Cria uma matriz preenchida com zeros\n",
    "matriz_elems = numpy.full(dimensoes, valor, dtype=tipo) # Cria uma matriz preenchida com 'valor'\n",
    "matriz_diag = numpy.diag([1, 2, 3], dtype=tipo ) # Cria uma matriz diagonal com os valores da lista passada\n",
    "```\n",
    "\n",
    "Fornecer o tipo de cada elemento da matriz (em `dtype=tipo`) não é obrigatório. Apesar disso, fornecer o tipo é uma forma de garantir que os dados que estamos fornecendo estão de acordo com a lógica do código.\n",
    "\n",
    "Também é possível inicializar uma matriz a partir de uma lista de listas\n",
    "```python\n",
    "lista_de_listas = [\n",
    "    [5,2,3],\n",
    "    [-1,5,2],\n",
    "    [0,1,0]\n",
    "]\n",
    "matriz = numpy.array(lista_de_listas, dtype=tipo)\n",
    "```\n",
    "\n",
    "Sabendo disto, **crie uma matriz de 3 linhas por 3 colunas igual à matriz abaixo usando listas de listas.** Armazene na variável `matriz` e atribua o tipo inteiro usando `dtype=int`.\n",
    "$$\n",
    "\\begin{bmatrix}\n",
    "10 & 1   & 10 \\\\\n",
    "1  & 100 & 1  \\\\\n",
    "10 & 1   & 10\n",
    "\\end{bmatrix}\n",
    "$$"
   ]
  },
  {
   "cell_type": "code",
   "execution_count": null,
   "id": "747c13e4",
   "metadata": {
    "deletable": false,
    "nbgrader": {
     "cell_type": "code",
     "checksum": "c2f03c17b5d4de3900599640a211dfa1",
     "grade": false,
     "grade_id": "cell-e2172d73313b5b96",
     "locked": false,
     "schema_version": 3,
     "solution": true,
     "task": false
    }
   },
   "outputs": [],
   "source": [
    "# YOUR CODE HERE\n",
    "raise NotImplementedError()"
   ]
  },
  {
   "cell_type": "code",
   "execution_count": null,
   "id": "a8142b5a",
   "metadata": {
    "deletable": false,
    "editable": false,
    "nbgrader": {
     "cell_type": "code",
     "checksum": "049d9a433912d2e71dc3edfec9d6fceb",
     "grade": true,
     "grade_id": "cell-41182b2118159600",
     "locked": true,
     "points": 1,
     "schema_version": 3,
     "solution": false,
     "task": false
    }
   },
   "outputs": [],
   "source": [
    "# Não alterar: célula reservada ao autograder\n",
    "assert (matriz[0,0] == 10) and (matriz[2,0] == 10) and (matriz[0,2] == 10) and (matriz[2,2] == 10) # Os 10s estão na posição errada\n",
    "assert (matriz[1,0] == 1) and (matriz[0,1] == 1) and (matriz[2,1] == 1) and (matriz[1,2] == 1) # Os 1s estão na posição errada\n",
    "assert matriz[1,1] == 100 # O 100 está na posição errada."
   ]
  },
  {
   "cell_type": "markdown",
   "id": "f2488918",
   "metadata": {
    "deletable": false,
    "editable": false,
    "nbgrader": {
     "cell_type": "markdown",
     "checksum": "21c7ad4ca98ddffc5ae1e785a9fcc26a",
     "grade": false,
     "grade_id": "cell-b0c7091dfdf64508",
     "locked": true,
     "schema_version": 3,
     "solution": false,
     "task": false
    }
   },
   "source": [
    "Usar matrizes para solução de problemas implica em manipular e acessar seus elementos. Para acessar um elemento de uma matriz, utilizamos `matriz[linha,coluna]`, em que `linha` e `coluna` correspondem à linha e coluna, respectivamente, que queremos acessar.\n",
    "\n",
    "Para acessar cada elemento individualmente da matriz, precisamos usar duas estruturas de repetição aninhadas, uma para alterar as linhas e outra para alterar as colunas. Normalmente, usamos `for` para isso em conjunto de `range(inicio,fim,passo)`, que gera um iterável de números inteiros que se iniciam em `inicio` (padrão é 0), terminam em `fim-1` e têm passo `passo` (padrão é 1). \n",
    "\n",
    "Se omitirmos o inicio e o passo e substituirmos `fim` pelo número de linhas, temos os números que vão de 0 a `numero de linhas - 1`, e o equivalente para o número de colunas. \n",
    "\n",
    "Assim, o resultado do laço para acessar cada elemento da matriz é\n",
    "```python\n",
    "for linha in range(numero_linhas):\n",
    "    for coluna in range(numero_colunas):\n",
    "        # operação em matriz[linha,coluna]\n",
    "```\n",
    "\n",
    "Para se obter o número de linhas e o número de colunas de uma matriz, utilizamos o atributo `matriz.shape`, que retorna uma tupla de dois elementos: o primeiro é a linha e o segundo é a coluna.\n",
    "\n",
    "Algumas formas de se usar esse atributo:\n",
    "```python\n",
    "# Forma 1\n",
    "numero_linhas = matriz.shape[0]\n",
    "numero_colunas = matriz.shape[1]\n",
    "\n",
    "# Forma 2\n",
    "numero_linhas, numero_colunas = matriz.shape\n",
    "```\n",
    "A forma 1 é mais intuitiva para quem tem contexto em linguagens como Java e C++. A forma 2 é mais idiomático do Python: ele separa a tupla de dois elementos e atribui individualmente para cada uma das variáveis em sequência, tal que o elemento 0 é atribuído à variável mais à esquerda e o elemento 1 é atribuído à próxima variável.\n",
    "\n",
    "Sabendo disto, implemente uma função chamada `multiplica`, que recebe uma matriz e um número. Nesta função:\n",
    "* Crie uma matriz de mesmo tamanho que a matriz de entrada (use o `shape` para ajudar e `dtype=float`)\n",
    "* Atribua à cada linha e coluna da matriz de saída o elemento da matriz de entrada na mesma linha e coluna multiplicado pelo número de entrada\n",
    "* Retorne a matriz de saída"
   ]
  },
  {
   "cell_type": "code",
   "execution_count": null,
   "id": "ca9727e3",
   "metadata": {
    "deletable": false,
    "nbgrader": {
     "cell_type": "code",
     "checksum": "ee7db8bf768b94226bf7ff45c2f012c8",
     "grade": false,
     "grade_id": "cell-3938a5c8512d8432",
     "locked": false,
     "schema_version": 3,
     "solution": true,
     "task": false
    }
   },
   "outputs": [],
   "source": [
    "# YOUR CODE HERE\n",
    "raise NotImplementedError()"
   ]
  },
  {
   "cell_type": "code",
   "execution_count": null,
   "id": "05b77ba6",
   "metadata": {},
   "outputs": [],
   "source": [
    "# Use esta célula para testar o funcionamento de sua função.\n",
    "matriz_teste = np.full((3,5), 1., dtype=float) # Cria uma matriz preenchida somente com números 1\n",
    "print(\"Matriz original\")\n",
    "print(matriz_teste)\n",
    "\n",
    "# Altere os valores em numero para avaliar a saída.\n",
    "numero = 10\n",
    "print(\"Matriz multiplicada\")\n",
    "print(multiplica(matriz_teste, numero))"
   ]
  },
  {
   "cell_type": "code",
   "execution_count": null,
   "id": "8221f4fb",
   "metadata": {
    "deletable": false,
    "editable": false,
    "nbgrader": {
     "cell_type": "code",
     "checksum": "bcc11999af83bed7206c7c3e86bfc469",
     "grade": true,
     "grade_id": "cell-e0bd50e115b7fe22",
     "locked": true,
     "points": 1,
     "schema_version": 3,
     "solution": false,
     "task": false
    }
   },
   "outputs": [],
   "source": [
    "# Não alterar: célula reservada ao autograder\n",
    "matriz_teste = np.array([\n",
    "    [2.,1.],\n",
    "    [3.,5.]\n",
    "])\n",
    "gabarito = np.array([\n",
    "    [24.,12.],\n",
    "    [36.,60.]\n",
    "])\n",
    "\n",
    "assert np.all( multiplica(matriz_teste,12) == gabarito )\n"
   ]
  },
  {
   "cell_type": "markdown",
   "id": "1a07f37f",
   "metadata": {
    "deletable": false,
    "editable": false,
    "nbgrader": {
     "cell_type": "markdown",
     "checksum": "040db8ede35d915bf9aba0f07ff47f2c",
     "grade": false,
     "grade_id": "cell-2c97788de323b2f8",
     "locked": true,
     "schema_version": 3,
     "solution": false,
     "task": false
    }
   },
   "source": [
    "# Exercício 5 - C\n",
    "Manipular elemento a elemento de matrizes, se a operação independe da posição, é chato e aumenta muito o número de linhas do código, além do de variáveis. Além disso, em Python, acessar matrizes elemento a elemento pode ser custoso computacionalmente. Assim, o conceito de **vetorização** nos auxilia em cada um desses problemas.\n",
    "\n",
    "**Vetorização** consiste em aplicar operações que seriam executadas elemento a elemento de um vetor para todos os elementos de uma vez só em uma única operação.\n",
    "\n",
    "Por exemplo, considere o exercício anterior. Nele, iteramos na matriz para multiplicar cada um dos elementos. Apesar disso, se quisermos multiplicar todos os elementos de uma matriz de uma vez só em Python usando o Numpy, podemos usar a seguinte operação:\n",
    "```python\n",
    "matriz_multiplicada = numero * matriz\n",
    "```\n",
    "\n",
    "Note a simplicidade do código acima. Em uma linha, fizemos com que cada elemento da matriz fosse alterado sem nenhum `for` explicito e, por menos intuitivo que possa parecer, em Python é mais eficiente operar por vetorização que usando laços explícitos.\n",
    "\n",
    "Usando o numpy, podemos fazer qualquer operação aritmética de forma vetorizada em uma matriz. Por exemplo:\n",
    "```python\n",
    "matriz + numero # Soma elemento a elemento da matriz com o número\n",
    "matriz - numero # Subtrai de cada elemento da matriz o número\n",
    "matriz * numero # Multiplica todos os elementos da matriz pelo número\n",
    "matriz / numero # Divide todos os elementos da matriz pelo número\n",
    "matriz ** numero  # Eleva todos os elementos da matriz pelo número\n",
    "```\n",
    "\n",
    "Além disso, as funções disponíveis em Numpy são vetorizadas. Por exemplo\n",
    "```python\n",
    "numpy.sin(matriz) # Calcula o seno de cada elemento da matriz\n",
    "numpy.cos(matriz) # Calcula o cosseno de cada elemento da matriz\n",
    "numpy.log2(matriz) # Calcula o log em base 2 de cada elemento da matriz\n",
    "numpy.log(matriz) # Calcula o log em base usando constante de Euler de cada elemento da matriz\n",
    "numpy.exp(matriz) # Eleva a constante de Euler para cada elemento da matriz\n",
    "```\n",
    "\n",
    "Considerando o contexto apresentado, implemente uma função (chamada `onda_cosseno`) em Python que, fornecida uma matriz, um número `a` e um número `b` retorne a matriz que resulta de $a \\cdot cos(matriz) + b$."
   ]
  },
  {
   "cell_type": "code",
   "execution_count": null,
   "id": "4a77ab2d",
   "metadata": {
    "deletable": false,
    "nbgrader": {
     "cell_type": "code",
     "checksum": "6098b92270a4534abe2e82e4b7676c3b",
     "grade": false,
     "grade_id": "cell-0adf251123601828",
     "locked": false,
     "schema_version": 3,
     "solution": true,
     "task": false
    }
   },
   "outputs": [],
   "source": [
    "# YOUR CODE HERE\n",
    "raise NotImplementedError()"
   ]
  },
  {
   "cell_type": "code",
   "execution_count": null,
   "id": "a460840e",
   "metadata": {},
   "outputs": [],
   "source": [
    "# Use esta célula para testar o funcionamento de sua função.\n",
    "matriz_teste = np.array([[0., np.pi/2],[np.pi, (3*np.pi/2)]], dtype=float) # Cria uma matriz preenchida\n",
    "print(\"Matriz original\")\n",
    "print(matriz_teste)\n",
    "\n",
    "# Altere os valores para avaliar a saída.\n",
    "a = 1.0\n",
    "b = 0.0\n",
    "print(\"Matriz após operação\")\n",
    "print(onda_cosseno(matriz_teste, a, b))"
   ]
  },
  {
   "cell_type": "markdown",
   "id": "8c556c38",
   "metadata": {
    "deletable": false,
    "editable": false,
    "nbgrader": {
     "cell_type": "markdown",
     "checksum": "fafb3ada8a9b3a9c547e10d7be5e1080",
     "grade": false,
     "grade_id": "cell-a2afd2a012e3ac12",
     "locked": true,
     "schema_version": 3,
     "solution": false,
     "task": false
    }
   },
   "source": [
    "Para o caso em que `a=1` e `b=0`, a matriz de saída deve ser próxima de\n",
    "$$\n",
    "\\begin{bmatrix}\n",
    "1 & 0 \\\\\n",
    "-1 & 0\n",
    "\\end{bmatrix}\n",
    "$$"
   ]
  },
  {
   "cell_type": "code",
   "execution_count": null,
   "id": "37e82fff",
   "metadata": {
    "deletable": false,
    "editable": false,
    "nbgrader": {
     "cell_type": "code",
     "checksum": "3635c5a6d378eec88a3b9e7203e3b235",
     "grade": true,
     "grade_id": "cell-2cfd3b295f614b6d",
     "locked": true,
     "points": 1,
     "schema_version": 3,
     "solution": false,
     "task": false
    }
   },
   "outputs": [],
   "source": [
    "# Não alterar: célula reservada ao autograder\n",
    "matriz_teste = np.array([[0., np.pi/2],[np.pi, (3*np.pi/2)]], dtype=float)\n",
    "gabarito = np.array([\n",
    "    [1.,0.],\n",
    "    [-1.,0.]\n",
    "])\n",
    "\n",
    "assert np.all( \n",
    "    np.isclose(\n",
    "        onda_cosseno(matriz_teste,1,0),\n",
    "        gabarito \n",
    "    )\n",
    ")\n"
   ]
  }
 ],
 "metadata": {
  "kernelspec": {
   "display_name": "Python 3",
   "language": "python",
   "name": "python3"
  },
  "language_info": {
   "codemirror_mode": {
    "name": "ipython",
    "version": 3
   },
   "file_extension": ".py",
   "mimetype": "text/x-python",
   "name": "python",
   "nbconvert_exporter": "python",
   "pygments_lexer": "ipython3",
   "version": "3.8.8"
  }
 },
 "nbformat": 4,
 "nbformat_minor": 5
}
