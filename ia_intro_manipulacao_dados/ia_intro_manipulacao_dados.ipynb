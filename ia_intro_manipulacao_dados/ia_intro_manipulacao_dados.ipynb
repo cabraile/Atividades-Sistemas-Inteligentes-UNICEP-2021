{
 "cells": [
  {
   "cell_type": "markdown",
   "id": "a8d3b285",
   "metadata": {
    "deletable": false,
    "editable": false,
    "nbgrader": {
     "cell_type": "markdown",
     "checksum": "178936c887537bb37af75600b4aa2d01",
     "grade": false,
     "grade_id": "cell-1cca6eab6b29e07b",
     "locked": true,
     "schema_version": 3,
     "solution": false,
     "task": false
    }
   },
   "source": [
    "# Dados do aluno\n",
    "Preencha seus dados nas variáveis da célula abaixo para continuar."
   ]
  },
  {
   "cell_type": "code",
   "execution_count": null,
   "id": "87d5b104",
   "metadata": {},
   "outputs": [],
   "source": [
    "# Preencha seu nome e código do aluno aqui\n",
    "nome_aluno   = \"\"   # Substitua aqui pelo seu nome, exemplo:   nome_aluno = \"Edson Crosué das Dores\"\n",
    "codigo_aluno = None # Substitua aqui pelo seu código, exemplo: codigo_aluno = 1234567"
   ]
  },
  {
   "cell_type": "code",
   "execution_count": null,
   "id": "ff759402",
   "metadata": {
    "deletable": false,
    "editable": false,
    "nbgrader": {
     "cell_type": "code",
     "checksum": "77645e3d9f077b1302f44dfd06092720",
     "grade": true,
     "grade_id": "cell-4bf0677fb3533055",
     "locked": true,
     "points": 0,
     "schema_version": 3,
     "solution": false,
     "task": false
    }
   },
   "outputs": [],
   "source": [
    "# Não alterar: célula reservada ao autograder\n",
    "assert nome_aluno != \"\" # Você precisa preencher seu nome no formulário\n",
    "assert codigo_aluno is not None # Você precisa preencher seu código de aluno"
   ]
  },
  {
   "cell_type": "markdown",
   "id": "dd1b9d15",
   "metadata": {
    "deletable": false,
    "editable": false,
    "nbgrader": {
     "cell_type": "markdown",
     "checksum": "df0a4d9c7cea23e3064ebfee5e535144",
     "grade": false,
     "grade_id": "cell-2b36922b9e1ceec2",
     "locked": true,
     "schema_version": 3,
     "solution": false,
     "task": false
    }
   },
   "source": [
    "Neste notebook, iremos trabalhar com a biblioteca `pandas` e o `numpy`. Desta forma, carregue os dois módulos na célula abaixo, e use os **alias**: `pd` para o `pandas` e `np` para o `numpy`. \n",
    "\n",
    "**Nomear os aliases é importante neste notebook para usar o autograder.**"
   ]
  },
  {
   "cell_type": "code",
   "execution_count": null,
   "id": "7559eed4",
   "metadata": {
    "deletable": false,
    "nbgrader": {
     "cell_type": "code",
     "checksum": "804109c4845461c9bc716a7efd567ea9",
     "grade": false,
     "grade_id": "cell-55538f0248630b4a",
     "locked": false,
     "schema_version": 3,
     "solution": true,
     "task": false
    }
   },
   "outputs": [],
   "source": [
    "# YOUR CODE HERE\n",
    "raise NotImplementedError()"
   ]
  },
  {
   "cell_type": "code",
   "execution_count": null,
   "id": "b720774e",
   "metadata": {
    "deletable": false,
    "editable": false,
    "nbgrader": {
     "cell_type": "code",
     "checksum": "61c09490e339cbfcff2313339a8c4964",
     "grade": true,
     "grade_id": "cell-d922fd547f0d04ed",
     "locked": true,
     "points": 0,
     "schema_version": 3,
     "solution": false,
     "task": false
    }
   },
   "outputs": [],
   "source": [
    "# Célula reservada ao autograder!\n",
    "import sys\n",
    "assert \"numpy\" in sys.modules\n",
    "assert \"pandas\" in sys.modules"
   ]
  },
  {
   "cell_type": "markdown",
   "id": "eca431b7",
   "metadata": {
    "deletable": false,
    "editable": false,
    "nbgrader": {
     "cell_type": "markdown",
     "checksum": "6202bc7e52cb02a2f4364892d8777d05",
     "grade": false,
     "grade_id": "cell-44a014bf5c3c68b9",
     "locked": true,
     "schema_version": 3,
     "solution": false,
     "task": false
    }
   },
   "source": [
    "# Sobre\n",
    "Este notebook visa guiar o seu estudo de manipulação de dados em Python usando Numpy e Pandas.\n",
    "\n",
    "Base de dados usada para os exercícios: [Real estate valuation data set](https://archive.ics.uci.edu/ml/datasets/Real+estate+valuation+data+set).\n",
    "\n",
    "## Real Estate Valuation Data Set\n",
    "Nesta base de dados, o intuito é estimar o impacto das variáveis nos preços de imóveis (regressão). Apesar disso, neste notebook, iremos somente manipular e analisar os dados.\n",
    "\n",
    "As variáveis contidas neste dataset\n",
    "\n",
    "| Variável | Atributo                               | Unidade                     | Exemplo                |\n",
    "| -------- | -------------------------------------- | --------------------------- | ---------------------- |\n",
    "| No       | O ídentificador único da casa          | Sem unidade                 | 4\n",
    "| X1       | A data de operação                     | Ano.Proporção de Meses      | 2013.250=Março de 2013 |\n",
    "| X2       | Idade da casa                          | Anos                        | 32                     |\n",
    "| X3       | A distância até a estação mais próxima | Metros                      | 84.87882               |\n",
    "| X4       | Número de lojas de conveniência nos arredores | Inteiro              | 10                     | \n",
    "| X5       | Latitude                               | Graus                       | 24.98298               |\n",
    "| X6       | Longitude                              | Graus                       | 121.54024              |\n",
    "| Y        | Preço por unidade de área local        | Novo dolar do Taiwan / Ping | 37.9                   |\n",
    "\n",
    "* Ping é uma medida local que corresponde a 3.3 metros quadrados."
   ]
  },
  {
   "cell_type": "markdown",
   "id": "bc2d4e7e",
   "metadata": {
    "deletable": false,
    "editable": false,
    "nbgrader": {
     "cell_type": "markdown",
     "checksum": "55590d1290298d2034434110d843b981",
     "grade": false,
     "grade_id": "cell-5ad01188899386e3",
     "locked": true,
     "schema_version": 3,
     "solution": false,
     "task": false
    }
   },
   "source": [
    "# Exercício 1\n",
    "Para podermos analisar os dados, precisamos carregá-los. O **Real Estate Valuation Data Set** está em formato `xlsx` mas, apesar disso, o `pandas` é capaz de carregá-lo por meio da instrução `pandas.read_excel(caminho_arquivo)`.\n",
    "\n",
    "Na célula abaixo, **carregue o arquivo `real_estate_valuation_data_set.xlsx` e armazene o `dataframe` carregado na variável `df_exercicio_1`**.\n",
    "\n",
    "* Caso seja apontado um `ImportError` durante a operação, instale o `xlrd` e o `openpyxel` pelo Anaconda usando `conda install -c conda-forge xlrd openpyxel`"
   ]
  },
  {
   "cell_type": "code",
   "execution_count": null,
   "id": "ba9e511d",
   "metadata": {
    "deletable": false,
    "nbgrader": {
     "cell_type": "code",
     "checksum": "32dd2e62c4ac60f4bf4ee13d9d07fa90",
     "grade": false,
     "grade_id": "cell-05769eb822e9d059",
     "locked": false,
     "schema_version": 3,
     "solution": true,
     "task": false
    }
   },
   "outputs": [],
   "source": [
    "# YOUR CODE HERE\n",
    "raise NotImplementedError()\n",
    "\n",
    "# IMPLEMENTE SUA SOLUÇÃO NAS LINHAS ACIMA\n",
    "# Exibe as 3 primeiras linhas da tabela\n",
    "df_exercicio_1.head(3)"
   ]
  },
  {
   "cell_type": "code",
   "execution_count": null,
   "id": "0c3160b2",
   "metadata": {
    "deletable": false,
    "editable": false,
    "nbgrader": {
     "cell_type": "code",
     "checksum": "cbb0092a6224df8c00813a02c5fda08c",
     "grade": true,
     "grade_id": "cell-2ed7bcb34dff56b1",
     "locked": true,
     "points": 2,
     "schema_version": 3,
     "solution": false,
     "task": false
    }
   },
   "outputs": [],
   "source": [
    "# Célula reservada ao autograder!\n",
    "\n",
    "assert df_exercicio_1 is not None # Feedback: você provavelmente não carregou a base de dados na variável 'df_exercicio_1'\n",
    "assert \"X1 transaction date\" in df_exercicio_1.columns\n",
    "assert \"X2 house age\" in df_exercicio_1.columns\n",
    "assert \"X3 distance to the nearest MRT station\" in df_exercicio_1.columns\n",
    "assert \"X4 number of convenience stores\" in df_exercicio_1.columns\n",
    "assert \"X5 latitude\" in df_exercicio_1.columns\n",
    "assert \"X6 longitude\" in df_exercicio_1.columns\n",
    "assert \"Y house price of unit area\" in df_exercicio_1.columns\n",
    "assert np.all( np.array(df_exercicio_1.shape) == np.array((414,8)) )\n",
    "assert np.isclose( df_exercicio_1[\"Y house price of unit area\"].min() , 7.6 )\n",
    "assert np.isclose( df_exercicio_1[\"Y house price of unit area\"].max() , 117.5 )\n"
   ]
  },
  {
   "cell_type": "markdown",
   "id": "3e892217",
   "metadata": {
    "deletable": false,
    "editable": false,
    "nbgrader": {
     "cell_type": "markdown",
     "checksum": "3e723673531b3c83870112fe345ddb43",
     "grade": false,
     "grade_id": "cell-850dfff85f1168e9",
     "locked": true,
     "schema_version": 3,
     "solution": false,
     "task": false
    }
   },
   "source": [
    "Se tudo ocorreu corretamente na célula acima, uma tabela com três linhas e 8 colunas foi exibida.\n",
    "\n",
    "# Exercício 2\n",
    "\n",
    "**Seu objetivo agora é melhorar um pouco a tabela para análise de dados.**\n",
    "\n",
    "Passos: \n",
    "1. As colunas `No`, `X1 transaction date`, `X5 latitude` e `X6 longitude` não serão de interesse para esse exercício. Remova elas usando o método `drop(lista_colunas, axis=\"column\")`.\n",
    "2. Alterar os nomes das colunas, de forma que \n",
    "    * `X2 house age` seja `Idade`,\n",
    "    * `X3 distance to the nearest MRT station` seja `Distância Estação`, \n",
    "    * `X4 number of convenience stores` seja `# Lojas Conveniência`, \n",
    "    * `Y house price of unit area` seja `Preço`\n",
    "\n",
    "### Recomendação de Passos\n",
    "\n",
    "Primeiro use o método `drop` do objeto `df_exercicio_1` usando a lista `[\"No\", \"X1 transaction date\", \"X5 latitude\", \"X6 longitude\"]` (lembre-se de setar `axis=\"columns\"`) e armazene o resultado em `df_exercicio_2`\n",
    "\n",
    "Em seguida, atribua ao membro `columns` do objeto `df_exercicio_2` a lista `[\"Idade\", \"Distância Estação\", \"# Lojas Conveniência\", \"Preço\"]`."
   ]
  },
  {
   "cell_type": "code",
   "execution_count": null,
   "id": "89f868a9",
   "metadata": {
    "deletable": false,
    "nbgrader": {
     "cell_type": "code",
     "checksum": "5566447a099dd615011ba610bfe02548",
     "grade": false,
     "grade_id": "cell-ffd63f72827f1758",
     "locked": false,
     "schema_version": 3,
     "solution": true,
     "task": false
    }
   },
   "outputs": [],
   "source": [
    "# YOUR CODE HERE\n",
    "raise NotImplementedError()\n",
    "\n",
    "# IMPLEMENTE SUA SOLUÇÃO NAS LINHAS ACIMA\n",
    "# Visualização da tabela\n",
    "df_exercicio_2.head(3)"
   ]
  },
  {
   "cell_type": "code",
   "execution_count": null,
   "id": "16fb32af",
   "metadata": {
    "deletable": false,
    "editable": false,
    "nbgrader": {
     "cell_type": "code",
     "checksum": "6054376e82648e9fb7b17c7e5cb43bea",
     "grade": true,
     "grade_id": "cell-d1ed4e13a545e913",
     "locked": true,
     "points": 2,
     "schema_version": 3,
     "solution": false,
     "task": false
    }
   },
   "outputs": [],
   "source": [
    "# Célula reservada ao autograder!\n",
    "assert df_exercicio_2 is not None\n",
    "assert \"Idade\" in df_exercicio_2.columns\n",
    "assert \"Distância Estação\" in df_exercicio_2.columns\n",
    "assert \"# Lojas Conveniência\" in df_exercicio_2.columns\n",
    "assert \"Preço\" in df_exercicio_2.columns\n",
    "\n",
    "assert \"X1 transaction date\" not in df_exercicio_2.columns\n",
    "assert \"X2 house age\" not in df_exercicio_2.columns\n",
    "assert \"X3 distance to the nearest MRT station\" not in df_exercicio_2.columns\n",
    "assert \"X4 number of convenience stores\" not in df_exercicio_2.columns\n",
    "assert \"X5 latitude\" not in df_exercicio_2.columns\n",
    "assert \"X6 longitude\" not in df_exercicio_2.columns\n",
    "assert \"Y house price of unit area\" not in df_exercicio_2.columns\n"
   ]
  },
  {
   "cell_type": "markdown",
   "id": "7686f4dc",
   "metadata": {
    "deletable": false,
    "editable": false,
    "nbgrader": {
     "cell_type": "markdown",
     "checksum": "6562cb18b6ab9ce2c603212e8f43ef38",
     "grade": false,
     "grade_id": "cell-78c4f957b6258934",
     "locked": true,
     "schema_version": 3,
     "solution": false,
     "task": false
    }
   },
   "source": [
    "# Exercício 3\n",
    "No Brasil, não estamos acostumados a trabalhar com a medida de área \"ping\" e nem com o valor de dolar do Taiwan. \n",
    "\n",
    "Como temos costume de trabalhar com área em metros quadrados e como usamos o real no Brasil, vamos padronizar a medida de preço atual, que está em $TWD/ping$ para $BRL/m^2$.\n",
    "\n",
    "**Desta forma, altere a coluna de preço de acordo.**\n",
    "\n",
    "Passos:\n",
    "1. Crie uma cópia do dataframe `df_exercicio_2` e armazene no dataframe `df_exercicio_3` usando o método `tabela.copy()`.\n",
    "2. Para a coluna `Preço` do `df_exercicio_2`, aplique a relação: $Preço_{novo} = Preço * 0.19 / 3.3$ (1TWD = 0.19BRL e 1 ping = 3.3$m^2$)\n",
    "    * Considere fazer essa conversão de maneira vetorizada\n",
    "3. Coloque o resultado da operação acima na coluna \"Preço\" do dataframe `df_exercicio_3`, ou seja, em `df_exercicio_3[\"Preço\"]`\n",
    "\n",
    "Os valores de conversão de dólar do Taiwan para real brasileiro usados neste exercício foram obtidos no dia 4 de agosto de 2021."
   ]
  },
  {
   "cell_type": "code",
   "execution_count": null,
   "id": "d413b6bd",
   "metadata": {
    "deletable": false,
    "nbgrader": {
     "cell_type": "code",
     "checksum": "0aaa707b0c10be3230bd92bee1d070a1",
     "grade": false,
     "grade_id": "cell-b4f44d40152b4af4",
     "locked": false,
     "schema_version": 3,
     "solution": true,
     "task": false
    }
   },
   "outputs": [],
   "source": [
    "# YOUR CODE HERE\n",
    "raise NotImplementedError()\n",
    "\n",
    "# IMPLEMENTE SUA SOLUÇÃO NAS LINHAS ACIMA\n",
    "# Visualização da tabela!\n",
    "df_exercicio_3.head(3)"
   ]
  },
  {
   "cell_type": "code",
   "execution_count": null,
   "id": "0dde913c",
   "metadata": {
    "deletable": false,
    "editable": false,
    "nbgrader": {
     "cell_type": "code",
     "checksum": "31a21932fe1e13450b2b0341bb2c90d1",
     "grade": true,
     "grade_id": "cell-e492e9c0eaf5d882",
     "locked": true,
     "points": 2,
     "schema_version": 3,
     "solution": false,
     "task": false
    }
   },
   "outputs": [],
   "source": [
    "# Célula reservada ao autograder!\n",
    "assert np.isclose( df_exercicio_3[\"Preço\"].loc[0] , 2.182121) # Confira se sua conta está correta!\n",
    "assert np.isclose( df_exercicio_3[\"Preço\"].loc[2] , 2.723333) # Confira se sua conta está correta!\n",
    "assert np.all( np.array(df_exercicio_3.shape) == np.array((414,4)) ) # Por um acaso você alterou o tamanho da tabela?"
   ]
  },
  {
   "cell_type": "markdown",
   "id": "c935049b",
   "metadata": {
    "deletable": false,
    "editable": false,
    "nbgrader": {
     "cell_type": "markdown",
     "checksum": "9e414fedd4d920e70cb0ebae9e91061e",
     "grade": false,
     "grade_id": "cell-b806cbdbfddb7b52",
     "locked": true,
     "schema_version": 3,
     "solution": false,
     "task": false
    }
   },
   "source": [
    "# Exercício 4\n",
    "Agora que o imóvel está em unidades de medida no contexto brasileiro na tabela `df_exercicio_3`, vamos analisar um pouco sobre este preço.\n",
    "\n",
    "**Neste exercício, ordene a tabela em ordem descrescente de preço e armazene os 5 imóveis com o preço mais alto na variável `df_top_5_maiores_precos`**\n",
    "\n",
    "**Dicas**\n",
    "* Utilize o método `tabela.sort_values(by, ascending)`, setando o argumento `by` com o nome da coluna usada para ordenar a tabela (no caso \"Preço\"). O argumento `ascending` indica se a ordem será crescente (`ascending=True`) ou descrescente(`ascending=False`). **O resultado desta operação não é feito diretamente na tabela!** Atribua o resultado a outra variável.\n",
    "* Com a tabela ordenada, para recuperar os k primeiros elementos utilize `tabela.iloc[:k]`. O atributo `iloc` indexa as linhas da tabela pela posição delas. Assim, a primeira linha da tabela pode ser acessada por `tabela.iloc[0]`. Podemos acessar mais de uma linha usando slices da mesma forma que fariamos em vetores."
   ]
  },
  {
   "cell_type": "code",
   "execution_count": null,
   "id": "087f7cb0",
   "metadata": {
    "deletable": false,
    "nbgrader": {
     "cell_type": "code",
     "checksum": "d21615cb3b012688cb92565bd7d18e01",
     "grade": false,
     "grade_id": "cell-332255ae135124af",
     "locked": false,
     "schema_version": 3,
     "solution": true,
     "task": false
    }
   },
   "outputs": [],
   "source": [
    "# YOUR CODE HERE\n",
    "raise NotImplementedError()\n",
    "\n",
    "# IMPLEMENTE SUA SOLUÇÃO NAS LINHAS ACIMA\n",
    "# Visualização da tabela\n",
    "df_top_5_maiores_precos.head()"
   ]
  },
  {
   "cell_type": "code",
   "execution_count": null,
   "id": "f0691f8e",
   "metadata": {
    "deletable": false,
    "editable": false,
    "nbgrader": {
     "cell_type": "code",
     "checksum": "c786c00d9e27e02c010e03d7df7f764c",
     "grade": true,
     "grade_id": "cell-a374c8bd8acfa34d",
     "locked": true,
     "points": 2,
     "schema_version": 3,
     "solution": false,
     "task": false
    }
   },
   "outputs": [],
   "source": [
    "# Célula reservada ao autograder!\n",
    "assert np.isclose(df_top_5_maiores_precos[\"Preço\"].loc[270], 6.765152)\n",
    "assert np.isclose(df_top_5_maiores_precos[\"Preço\"].loc[220], 4.508182)\n",
    "assert np.isclose(df_top_5_maiores_precos[\"Preço\"].loc[105], 4.087879)\n",
    "assert np.all( np.array(df_top_5_maiores_precos.shape) == np.array((5,4)) ) # Você se lembrou de selecionar somente os 5 primeiros?\n"
   ]
  },
  {
   "cell_type": "markdown",
   "id": "f6b5a5f9",
   "metadata": {
    "deletable": false,
    "editable": false,
    "nbgrader": {
     "cell_type": "markdown",
     "checksum": "2d5960c0fab44549d9513bd75cc016a5",
     "grade": false,
     "grade_id": "cell-9bf5a534520722f2",
     "locked": true,
     "schema_version": 3,
     "solution": false,
     "task": false
    }
   },
   "source": [
    "# Exercício 5\n",
    "Aparentemente o valor dos imóveis no Taiwan é muito baixo. Se os passos anteriores estão corretos, o maior preço do imóvel por metro quadrado está em aproximadamente $R\\$6,80$!\n",
    "\n",
    "E quanto aos imóveis de menor valor?\n",
    "\n",
    "**De forma semelhante ao exercício 4, ordene a tabela em ordem crescente de preço e armazene os 5 imóveis com o preço mais baixo na variável `df_top_5_menores_precos`**."
   ]
  },
  {
   "cell_type": "code",
   "execution_count": null,
   "id": "e19c109d",
   "metadata": {
    "deletable": false,
    "nbgrader": {
     "cell_type": "code",
     "checksum": "45270303ea3180996767f20e0a8d9877",
     "grade": false,
     "grade_id": "cell-e7d9c9e07e53c10d",
     "locked": false,
     "schema_version": 3,
     "solution": true,
     "task": false
    }
   },
   "outputs": [],
   "source": [
    "# YOUR CODE HERE\n",
    "raise NotImplementedError()\n",
    "\n",
    "# IMPLEMENTE SUA SOLUÇÃO NAS LINHAS ACIMA\n",
    "# Visualização da tabela\n",
    "df_top_5_menores_precos.head()"
   ]
  },
  {
   "cell_type": "code",
   "execution_count": null,
   "id": "b631b1dc",
   "metadata": {
    "deletable": false,
    "editable": false,
    "nbgrader": {
     "cell_type": "code",
     "checksum": "5c19e83a9e39a7e80fa38ae7224c5ee2",
     "grade": true,
     "grade_id": "cell-943236e7cccf53fa",
     "locked": true,
     "points": 2,
     "schema_version": 3,
     "solution": false,
     "task": false
    }
   },
   "outputs": [],
   "source": [
    "# Célula reservada ao autograder!\n",
    "assert np.isclose(df_top_5_menores_precos[\"Preço\"].loc[113], 0.437576)\n",
    "assert np.isclose(df_top_5_menores_precos[\"Preço\"].loc[162], 0.667879)\n",
    "assert np.isclose(df_top_5_menores_precos[\"Preço\"].loc[330], 0.736970)\n",
    "assert np.all( np.array(df_top_5_menores_precos.shape) == np.array((5,4)) ) # Você se lembrou de selecionar somente os 5 primeiros?"
   ]
  },
  {
   "cell_type": "markdown",
   "id": "cc33dd77",
   "metadata": {
    "deletable": false,
    "editable": false,
    "nbgrader": {
     "cell_type": "markdown",
     "checksum": "bd2d0813402303b023e0edf28459d5f5",
     "grade": false,
     "grade_id": "cell-82eb5ad2cb754433",
     "locked": true,
     "schema_version": 3,
     "solution": false,
     "task": false
    }
   },
   "source": [
    "# Análise dos dados (Opcional)\n",
    "Pelo que podemos perceber, em geral a distância à estação mais próxima e o número de lojas de conveniência nos arredores impactam de alguma forma no preço final dos imóveis. Apesar disso, temos algumas excessões visíveis em nossos dados, como - por exemplo - o imóvel de índices 271 e 114.\n",
    "\n",
    "O imóvel 271 tem o maior valor, o que pode ser impactado pela distância à estação mais próxima, mas não é um imóvel nem tão velho e nem tão novo quanto os demais. Por outro lado o número de lojas de conveniência é baixo (1). Provavelmente sua localização deve ter sido mais impactante no preço, mas como descartamos esse dado para nossa análise.\n",
    "\n",
    "Por outro lado, o imóvel 114 tem o menor valor, mas é mais próximo à estação de trem relativo aos demais imóveis mais baratos e mais novo, além de ter um número alto de lojas de conveniência nos arredores.\n",
    "\n",
    "Vamos analisar visualmente como está distribuído o valor dos móveis com relação à cada variável. **Rode a célula abaixo para gerar os gráficos.**"
   ]
  },
  {
   "cell_type": "code",
   "execution_count": null,
   "id": "71718bb5",
   "metadata": {
    "deletable": false,
    "editable": false,
    "nbgrader": {
     "cell_type": "code",
     "checksum": "485593052fcab95362a0da7d58f7567c",
     "grade": false,
     "grade_id": "cell-769ed836159a3e65",
     "locked": true,
     "schema_version": 3,
     "solution": false,
     "task": false
    }
   },
   "outputs": [],
   "source": [
    "import matplotlib.pyplot as plt\n",
    "fig, axs = plt.subplots(1,3, figsize=(12, 4))\n",
    "df_exercicio_3.plot.scatter(x=\"Idade\", y=\"Preço\", ax=axs[0])\n",
    "df_exercicio_3.plot.scatter(x=\"Distância Estação\", y=\"Preço\",  ax=axs[1])\n",
    "df_exercicio_3.plot.scatter(x=\"# Lojas Conveniência\", y=\"Preço\",  ax=axs[2])"
   ]
  },
  {
   "cell_type": "markdown",
   "id": "5867bcac",
   "metadata": {
    "deletable": false,
    "editable": false,
    "nbgrader": {
     "cell_type": "markdown",
     "checksum": "2518750f9d53c1f9ebdb909003bf7a92",
     "grade": false,
     "grade_id": "cell-7f30fda30bb63c20",
     "locked": true,
     "schema_version": 3,
     "solution": false,
     "task": false
    }
   },
   "source": [
    "Olhar individualmente cada variável podemos estimar que:\n",
    "* Existe uma tendência de aumento de preço para imóveis mais próximos de sua estação de trem mais próxima e com mais lojas de conveniência ao redor.\n",
    "* Com relação ao preço pela idade, os dados parecem formar uma tendência de parábola, de forma que imóveis muito novos ou muito antigos possuem maior valor.\n",
    "\n",
    "E se explorarmos os pares de variáveis?"
   ]
  },
  {
   "cell_type": "code",
   "execution_count": null,
   "id": "7884aa35",
   "metadata": {
    "deletable": false,
    "editable": false,
    "nbgrader": {
     "cell_type": "code",
     "checksum": "6cee6c2382ae39c1dab5169d2233988f",
     "grade": false,
     "grade_id": "cell-8cea9dea853e6fc8",
     "locked": true,
     "schema_version": 3,
     "solution": false,
     "task": false
    }
   },
   "outputs": [],
   "source": [
    "fig, axs = plt.subplots(1,3, figsize=(16, 4))\n",
    "cmap = \"jet\"\n",
    "df_exercicio_3.plot.scatter(y=\"Idade\", x=\"Distância Estação\", c=\"Preço\", ax=axs[0], colormap=cmap)\n",
    "df_exercicio_3.plot.scatter(y=\"Idade\", x=\"# Lojas Conveniência\",  c=\"Preço\", ax=axs[1], colormap=cmap)\n",
    "df_exercicio_3.plot.scatter(x=\"# Lojas Conveniência\", y=\"Distância Estação\", c=\"Preço\", ax=axs[2], colormap=cmap)"
   ]
  },
  {
   "cell_type": "markdown",
   "id": "47a3cf7a",
   "metadata": {
    "deletable": false,
    "editable": false,
    "nbgrader": {
     "cell_type": "markdown",
     "checksum": "7d9a7a02bb1a375ab8ee1e7a89352c7d",
     "grade": false,
     "grade_id": "cell-cacc8d3cda3cbc18",
     "locked": true,
     "schema_version": 3,
     "solution": false,
     "task": false
    }
   },
   "source": [
    "As conclusões sobre cada análise vão da experiência de cada analista e da forma de exploração dos dados.\n",
    "\n",
    "Normalmente, quando queremos entender melhor sobre o impacto das variáveis ou sobre os proprios dados, usamos técnicas de aprendizado de máquina."
   ]
  },
  {
   "cell_type": "code",
   "execution_count": null,
   "id": "7e9ee43b",
   "metadata": {},
   "outputs": [],
   "source": []
  }
 ],
 "metadata": {
  "kernelspec": {
   "display_name": "Python 3",
   "language": "python",
   "name": "python3"
  },
  "language_info": {
   "codemirror_mode": {
    "name": "ipython",
    "version": 3
   },
   "file_extension": ".py",
   "mimetype": "text/x-python",
   "name": "python",
   "nbconvert_exporter": "python",
   "pygments_lexer": "ipython3",
   "version": "3.8.8"
  }
 },
 "nbformat": 4,
 "nbformat_minor": 5
}
